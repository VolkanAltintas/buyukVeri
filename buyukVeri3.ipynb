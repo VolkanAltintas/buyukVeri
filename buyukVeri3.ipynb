{
  "nbformat": 4,
  "nbformat_minor": 0,
  "metadata": {
    "colab": {
      "name": "buyukVeri3.ipynb",
      "provenance": [],
      "authorship_tag": "ABX9TyMAxtrh8mnERmXTRLDGbqoJ"
    },
    "kernelspec": {
      "name": "python3",
      "display_name": "Python 3"
    },
    "language_info": {
      "name": "python"
    }
  },
  "cells": [
    {
      "cell_type": "code",
      "metadata": {
        "colab": {
          "base_uri": "https://localhost:8080/"
        },
        "id": "3JIlNsDpL36A",
        "outputId": "8083ceb4-0d81-41c0-cbe7-ac09210f4b45"
      },
      "source": [
        "import numpy\n",
        "dizi=numpy.array([1,2,3,4])\n",
        "print(dizi)"
      ],
      "execution_count": 1,
      "outputs": [
        {
          "output_type": "stream",
          "name": "stdout",
          "text": [
            "[1 2 3 4]\n"
          ]
        }
      ]
    },
    {
      "cell_type": "code",
      "metadata": {
        "colab": {
          "base_uri": "https://localhost:8080/"
        },
        "id": "W4b3kdGvRgtW",
        "outputId": "218ee2d3-f561-4668-950f-c28def9cd953"
      },
      "source": [
        "import numpy as np\n",
        "dizi=np.array([1,2,3,4])\n",
        "print(dizi)"
      ],
      "execution_count": 2,
      "outputs": [
        {
          "output_type": "stream",
          "name": "stdout",
          "text": [
            "[1 2 3 4]\n"
          ]
        }
      ]
    },
    {
      "cell_type": "code",
      "metadata": {
        "colab": {
          "base_uri": "https://localhost:8080/"
        },
        "id": "kROaXIBWRvK4",
        "outputId": "cc13b730-e9bf-4b00-a089-e3f2d9173094"
      },
      "source": [
        "dizi1=np.array(['A','B','C'])\n",
        "print(dizi1)\n",
        "print(type(dizi1)) #Numpy ile oluşturulan dizi nesnelerine ndarray adı verilir..."
      ],
      "execution_count": 3,
      "outputs": [
        {
          "output_type": "stream",
          "name": "stdout",
          "text": [
            "['A' 'B' 'C']\n",
            "<class 'numpy.ndarray'>\n"
          ]
        }
      ]
    },
    {
      "cell_type": "code",
      "metadata": {
        "colab": {
          "base_uri": "https://localhost:8080/"
        },
        "id": "WlTQVel2SNZu",
        "outputId": "fe0f0ceb-6c9f-4e40-a0e3-9581b8a23997"
      },
      "source": [
        "diziTuple=np.array((12,25,26))\n",
        "print(diziTuple)"
      ],
      "execution_count": 4,
      "outputs": [
        {
          "output_type": "stream",
          "name": "stdout",
          "text": [
            "[12 25 26]\n"
          ]
        }
      ]
    },
    {
      "cell_type": "code",
      "metadata": {
        "colab": {
          "base_uri": "https://localhost:8080/"
        },
        "id": "wSj_En2CSr2Y",
        "outputId": "9b831c21-b360-410b-d5cf-d3187c29c137"
      },
      "source": [
        "#0 Boyutlu bir dizi oluşturma\n",
        "diziSifir=np.array(25)\n",
        "print(diziSifir)"
      ],
      "execution_count": 5,
      "outputs": [
        {
          "output_type": "stream",
          "name": "stdout",
          "text": [
            "25\n"
          ]
        }
      ]
    },
    {
      "cell_type": "code",
      "metadata": {
        "colab": {
          "base_uri": "https://localhost:8080/"
        },
        "id": "GqN6wXS6TDAQ",
        "outputId": "dfda2fe4-5f34-4d66-c910-640c020f3c2c"
      },
      "source": [
        "#Tek boyutlu diziler\n",
        "diziTek=np.array([1,2,3,4])\n",
        "print(diziTek)"
      ],
      "execution_count": 6,
      "outputs": [
        {
          "output_type": "stream",
          "name": "stdout",
          "text": [
            "[1 2 3 4]\n"
          ]
        }
      ]
    },
    {
      "cell_type": "code",
      "metadata": {
        "colab": {
          "base_uri": "https://localhost:8080/"
        },
        "id": "9KMJ8Bh1TZh5",
        "outputId": "6187fca2-9002-4cb9-9d96-77d3972fabcc"
      },
      "source": [
        "#Çift Boyutlu diziler\n",
        "diziCift=np.array([[2,4,6],[1,3,5]])\n",
        "print(diziCift)"
      ],
      "execution_count": 7,
      "outputs": [
        {
          "output_type": "stream",
          "name": "stdout",
          "text": [
            "[[2 4 6]\n",
            " [1 3 5]]\n"
          ]
        }
      ]
    },
    {
      "cell_type": "code",
      "metadata": {
        "colab": {
          "base_uri": "https://localhost:8080/"
        },
        "id": "qS6jew62UGyK",
        "outputId": "d57f4c9e-3d10-475d-fabc-d6ba4325288b"
      },
      "source": [
        "#3 boyutlu diziler\n",
        "diziUcBoyut=np.array([[[1,2,3],[4,5,6]],[[10,11,12],[13,14,15]]])\n",
        "print(diziUcBoyut)"
      ],
      "execution_count": 8,
      "outputs": [
        {
          "output_type": "stream",
          "name": "stdout",
          "text": [
            "[[[ 1  2  3]\n",
            "  [ 4  5  6]]\n",
            "\n",
            " [[10 11 12]\n",
            "  [13 14 15]]]\n"
          ]
        }
      ]
    },
    {
      "cell_type": "code",
      "metadata": {
        "colab": {
          "base_uri": "https://localhost:8080/"
        },
        "id": "qy0asgjDU0aV",
        "outputId": "a36fedbd-18e1-4c8a-d125-f12ed3de43d0"
      },
      "source": [
        "print(diziSifir.ndim)\n",
        "print(diziTek.ndim)\n",
        "print(diziCift.ndim)\n",
        "print(diziUcBoyut.ndim)\n",
        "#Bir dizinin boyutunu öğrenmek için ndim özelliği kullanılır..."
      ],
      "execution_count": 10,
      "outputs": [
        {
          "output_type": "stream",
          "name": "stdout",
          "text": [
            "0\n",
            "1\n",
            "2\n",
            "3\n"
          ]
        }
      ]
    },
    {
      "cell_type": "code",
      "metadata": {
        "colab": {
          "base_uri": "https://localhost:8080/"
        },
        "id": "Adrc36yhVlA3",
        "outputId": "cf030f53-7819-44e3-d3e0-eaa58455c407"
      },
      "source": [
        "bilgi=np.array([10,12,14,16], ndmin=2)\n",
        "print(bilgi)\n",
        "print('Dizinin boyut sayısı : ', bilgi.ndim)"
      ],
      "execution_count": 15,
      "outputs": [
        {
          "output_type": "stream",
          "name": "stdout",
          "text": [
            "[[10 12 14 16]]\n",
            "Dizinin boyut sayısı :  2\n"
          ]
        }
      ]
    },
    {
      "cell_type": "code",
      "metadata": {
        "colab": {
          "base_uri": "https://localhost:8080/"
        },
        "id": "dcSM9hJTWXc4",
        "outputId": "acf0e77d-1846-4abb-e9de-8d5878eb953f"
      },
      "source": [
        "sayilar=np.array([1,3,5,7])\n",
        "print(sayilar[0])\n",
        "print(sayilar[3])\n",
        "print(sayilar[1]+sayilar[3])"
      ],
      "execution_count": 18,
      "outputs": [
        {
          "output_type": "stream",
          "name": "stdout",
          "text": [
            "1\n",
            "7\n",
            "10\n"
          ]
        }
      ]
    },
    {
      "cell_type": "code",
      "metadata": {
        "colab": {
          "base_uri": "https://localhost:8080/"
        },
        "id": "pWre5V2sXHl7",
        "outputId": "602b9079-c4b9-467e-bcbb-60b1209f06d5"
      },
      "source": [
        "sayilarIkı=np.array([[2,4,6],[1,3,5]])\n",
        "print(sayilarIkı[0,0]) # 1 .dizinin ilk elemanı\n",
        "print(sayilarIkı[1,2]) # 2 .dizinin 3.elemanı"
      ],
      "execution_count": 22,
      "outputs": [
        {
          "output_type": "stream",
          "name": "stdout",
          "text": [
            "2\n",
            "5\n"
          ]
        }
      ]
    },
    {
      "cell_type": "code",
      "metadata": {
        "colab": {
          "base_uri": "https://localhost:8080/"
        },
        "id": "5Wml0b0PYZon",
        "outputId": "67f8441e-375b-4b5f-beca-f7ddd99bf79d"
      },
      "source": [
        "sayilarUc=np.array([[[1,2,3],[4,5,6]],[[10,11,12],[13,14,15]]])\n",
        "print(sayilarUc)\n",
        "print(sayilarUc[0,1,1])\n",
        "print(sayilarUc[1,1,2])"
      ],
      "execution_count": 25,
      "outputs": [
        {
          "output_type": "stream",
          "name": "stdout",
          "text": [
            "[[[ 1  2  3]\n",
            "  [ 4  5  6]]\n",
            "\n",
            " [[10 11 12]\n",
            "  [13 14 15]]]\n",
            "5\n",
            "15\n"
          ]
        }
      ]
    },
    {
      "cell_type": "code",
      "metadata": {
        "colab": {
          "base_uri": "https://localhost:8080/"
        },
        "id": "3DVfLbUpZoBQ",
        "outputId": "4c923091-9852-4a4a-8234-9ea94bef121d"
      },
      "source": [
        "sayilarIkı=np.array([[2,4,6],[1,3,5]])\n",
        "print(sayilarIkı[1,-2])\n",
        "print(sayilarIkı[0,-3])"
      ],
      "execution_count": 30,
      "outputs": [
        {
          "output_type": "stream",
          "name": "stdout",
          "text": [
            "3\n",
            "2\n"
          ]
        }
      ]
    },
    {
      "cell_type": "code",
      "metadata": {
        "colab": {
          "base_uri": "https://localhost:8080/"
        },
        "id": "UCz5QLJdgvdA",
        "outputId": "43216ae2-0e98-4672-da58-79162391e540"
      },
      "source": [
        "diziTek=np.array([1,2,3,4,5,6,7])\n",
        "print(diziTek[0:2])\n",
        "print(diziTek[2:])\n",
        "print(diziTek[:5])\n",
        "print(diziTek[::2])\n",
        "print(diziTek[1::2])\n",
        "print(diziTek[-4:-2])"
      ],
      "execution_count": 41,
      "outputs": [
        {
          "output_type": "stream",
          "name": "stdout",
          "text": [
            "[1 2]\n",
            "[3 4 5 6 7]\n",
            "[1 2 3 4 5]\n",
            "[1 3 5 7]\n",
            "[2 4 6]\n",
            "[4 5]\n"
          ]
        }
      ]
    },
    {
      "cell_type": "code",
      "metadata": {
        "colab": {
          "base_uri": "https://localhost:8080/"
        },
        "id": "kTXl0f7Yh2f8",
        "outputId": "51649f0e-a835-4503-a91e-ae6863503f9e"
      },
      "source": [
        "ikiBoyutlu=np.array([[1,2,3,4,5],[6,7,8,9,10]])\n",
        "print(ikiBoyutlu[1,1:3]) #2.elemanın indeksi 1 ve 2 olanları çeker...\n",
        "print(ikiBoyutlu[0:2,2])# her iki elemanının 3.elemanlarını çeker...\n",
        "print(ikiBoyutlu[0:2,1:3]) # her iki elemanın 2 ve 3 . elemanlarını alır...\n",
        "print(ikiBoyutlu[:,2])"
      ],
      "execution_count": 51,
      "outputs": [
        {
          "output_type": "stream",
          "name": "stdout",
          "text": [
            "[7 8]\n",
            "[3 8]\n",
            "[[2 3]\n",
            " [7 8]]\n",
            "[3 8]\n"
          ]
        }
      ]
    },
    {
      "cell_type": "code",
      "metadata": {
        "colab": {
          "base_uri": "https://localhost:8080/"
        },
        "id": "CF7LwmfolRFh",
        "outputId": "a21ae40c-ec91-47c0-db33-541b2e76cfe9"
      },
      "source": [
        "print(np.arange(0,101,5)) #np.arange(başlangıç, bitiş, artış)\n",
        "print(np.arange(10))\n",
        "print(np.arange(1,10))"
      ],
      "execution_count": 61,
      "outputs": [
        {
          "output_type": "stream",
          "name": "stdout",
          "text": [
            "[  0   5  10  15  20  25  30  35  40  45  50  55  60  65  70  75  80  85\n",
            "  90  95 100]\n",
            "[0 1 2 3 4 5 6 7 8 9]\n",
            "[1 2 3 4 5 6 7 8 9]\n"
          ]
        }
      ]
    },
    {
      "cell_type": "code",
      "metadata": {
        "colab": {
          "base_uri": "https://localhost:8080/"
        },
        "id": "A8_cHov-mlZ7",
        "outputId": "fe02f503-6b33-4cc3-bd4e-8f0a8d12d24c"
      },
      "source": [
        "np.eye(5)"
      ],
      "execution_count": 63,
      "outputs": [
        {
          "output_type": "execute_result",
          "data": {
            "text/plain": [
              "array([[1., 0., 0., 0., 0.],\n",
              "       [0., 1., 0., 0., 0.],\n",
              "       [0., 0., 1., 0., 0.],\n",
              "       [0., 0., 0., 1., 0.],\n",
              "       [0., 0., 0., 0., 1.]])"
            ]
          },
          "metadata": {},
          "execution_count": 63
        }
      ]
    },
    {
      "cell_type": "code",
      "metadata": {
        "colab": {
          "base_uri": "https://localhost:8080/"
        },
        "id": "HbF5ru-Um8RN",
        "outputId": "c7a65735-5ba1-4ce5-9154-5731fe1bb3bc"
      },
      "source": [
        "np.random.randn(5).tolist()"
      ],
      "execution_count": 66,
      "outputs": [
        {
          "output_type": "execute_result",
          "data": {
            "text/plain": [
              "[-0.12150837993775081,\n",
              " 0.046660125306653,\n",
              " -2.3212300296988335,\n",
              " 1.5797504512579574,\n",
              " 0.3247983909612264]"
            ]
          },
          "metadata": {},
          "execution_count": 66
        }
      ]
    },
    {
      "cell_type": "code",
      "metadata": {
        "colab": {
          "base_uri": "https://localhost:8080/"
        },
        "id": "MhMeJcwSnOTD",
        "outputId": "1079e8bf-8220-41d8-9179-83e7b5abe358"
      },
      "source": [
        "np.random.randint(5,50)"
      ],
      "execution_count": 72,
      "outputs": [
        {
          "output_type": "execute_result",
          "data": {
            "text/plain": [
              "45"
            ]
          },
          "metadata": {},
          "execution_count": 72
        }
      ]
    },
    {
      "cell_type": "code",
      "metadata": {
        "id": "RZPGnxtYnWHZ"
      },
      "source": [
        "rastgeleSayilar=np.random.randint(1,100,5)"
      ],
      "execution_count": 84,
      "outputs": []
    },
    {
      "cell_type": "code",
      "metadata": {
        "colab": {
          "base_uri": "https://localhost:8080/"
        },
        "id": "NRAXRZkfn161",
        "outputId": "316655e2-995f-4e7a-8fbb-86742518855e"
      },
      "source": [
        "print(rastgeleSayilar)"
      ],
      "execution_count": 85,
      "outputs": [
        {
          "output_type": "stream",
          "name": "stdout",
          "text": [
            "[46 31  9 79 51]\n"
          ]
        }
      ]
    },
    {
      "cell_type": "code",
      "metadata": {
        "colab": {
          "base_uri": "https://localhost:8080/"
        },
        "id": "7m8Whzf7nx8c",
        "outputId": "e8ffdcbf-2ab4-4c55-a8e5-d43c08d6d03d"
      },
      "source": [
        "rastgeleSayilar.max()"
      ],
      "execution_count": 86,
      "outputs": [
        {
          "output_type": "execute_result",
          "data": {
            "text/plain": [
              "79"
            ]
          },
          "metadata": {},
          "execution_count": 86
        }
      ]
    },
    {
      "cell_type": "code",
      "metadata": {
        "colab": {
          "base_uri": "https://localhost:8080/"
        },
        "id": "yyMU6VOIn-YX",
        "outputId": "c00adfca-a9a6-4614-8658-146bddf11c4a"
      },
      "source": [
        "rastgeleSayilar.min()"
      ],
      "execution_count": 87,
      "outputs": [
        {
          "output_type": "execute_result",
          "data": {
            "text/plain": [
              "9"
            ]
          },
          "metadata": {},
          "execution_count": 87
        }
      ]
    },
    {
      "cell_type": "code",
      "metadata": {
        "colab": {
          "base_uri": "https://localhost:8080/"
        },
        "id": "Se6k_D_ToBK_",
        "outputId": "67ce04ab-3395-4a58-f790-7011b659b8fc"
      },
      "source": [
        "rastgeleSayilar.mean()"
      ],
      "execution_count": 88,
      "outputs": [
        {
          "output_type": "execute_result",
          "data": {
            "text/plain": [
              "43.2"
            ]
          },
          "metadata": {},
          "execution_count": 88
        }
      ]
    },
    {
      "cell_type": "code",
      "metadata": {
        "colab": {
          "base_uri": "https://localhost:8080/"
        },
        "id": "FZUFRolVoGw1",
        "outputId": "b72cef36-7e6f-4058-f483-b188a3b5802a"
      },
      "source": [
        "rastgeleSayilar.argmax()"
      ],
      "execution_count": 89,
      "outputs": [
        {
          "output_type": "execute_result",
          "data": {
            "text/plain": [
              "3"
            ]
          },
          "metadata": {},
          "execution_count": 89
        }
      ]
    },
    {
      "cell_type": "code",
      "metadata": {
        "colab": {
          "base_uri": "https://localhost:8080/"
        },
        "id": "XCBmMsx7oPW4",
        "outputId": "1899764f-30fe-4502-8d3d-31093c16297a"
      },
      "source": [
        "rastgeleSayilar.argmin()"
      ],
      "execution_count": 90,
      "outputs": [
        {
          "output_type": "execute_result",
          "data": {
            "text/plain": [
              "2"
            ]
          },
          "metadata": {},
          "execution_count": 90
        }
      ]
    },
    {
      "cell_type": "code",
      "metadata": {
        "colab": {
          "base_uri": "https://localhost:8080/"
        },
        "id": "83Dpha5LolzL",
        "outputId": "1fa1fe8a-4ddc-4fbb-aba0-8859881ea92c"
      },
      "source": [
        "randomList=np.random.randint(0,100,20)\n",
        "print(randomList)"
      ],
      "execution_count": 92,
      "outputs": [
        {
          "output_type": "stream",
          "name": "stdout",
          "text": [
            "[52  5 53 54 34 62 79 18 59 42 60 43 26 15 54 84 39 69 95 11]\n"
          ]
        }
      ]
    },
    {
      "cell_type": "code",
      "metadata": {
        "colab": {
          "base_uri": "https://localhost:8080/"
        },
        "id": "rTW0vQAAo1-V",
        "outputId": "b7d69525-69af-41e5-c3d4-9974674e4617"
      },
      "source": [
        "random2List=randomList.reshape(5,4)\n",
        "print(random2List)\n",
        "print(type(random2List))\n",
        "print(random2List.ndim)\n",
        "print(randomList)\n",
        "print(type(randomList))\n",
        "print(randomList.ndim)"
      ],
      "execution_count": 98,
      "outputs": [
        {
          "output_type": "stream",
          "name": "stdout",
          "text": [
            "[[52  5 53 54]\n",
            " [34 62 79 18]\n",
            " [59 42 60 43]\n",
            " [26 15 54 84]\n",
            " [39 69 95 11]]\n",
            "<class 'numpy.ndarray'>\n",
            "2\n",
            "[52  5 53 54 34 62 79 18 59 42 60 43 26 15 54 84 39 69 95 11]\n",
            "<class 'numpy.ndarray'>\n",
            "1\n"
          ]
        }
      ]
    },
    {
      "cell_type": "code",
      "metadata": {
        "colab": {
          "base_uri": "https://localhost:8080/"
        },
        "id": "f0R4fVH3qkjM",
        "outputId": "1be63b1d-9a8e-429c-f1e0-56f57b6c8edb"
      },
      "source": [
        "import pandas as pd\n",
        "data=np.array(['a','b','c'])\n",
        "Series=pd.Series(data,[10,11,12])\n",
        "print(Series)"
      ],
      "execution_count": 101,
      "outputs": [
        {
          "output_type": "stream",
          "name": "stdout",
          "text": [
            "10    a\n",
            "11    b\n",
            "12    c\n",
            "dtype: object\n"
          ]
        }
      ]
    },
    {
      "cell_type": "code",
      "metadata": {
        "colab": {
          "base_uri": "https://localhost:8080/"
        },
        "id": "Bmh7Uj9Ur21R",
        "outputId": "9c510a52-2a27-4cee-af03-16e3ee149b4f"
      },
      "source": [
        "dict={'Bilgisayar':101, 'Elektrik':201,'Pazarlama':301}\n",
        "Series1=pd.Series(dict)\n",
        "print(Series1)"
      ],
      "execution_count": 102,
      "outputs": [
        {
          "output_type": "stream",
          "name": "stdout",
          "text": [
            "Bilgisayar    101\n",
            "Elektrik      201\n",
            "Pazarlama     301\n",
            "dtype: int64\n"
          ]
        }
      ]
    },
    {
      "cell_type": "code",
      "metadata": {
        "id": "PJe2ePl_tW1T"
      },
      "source": [
        "KAYNAKÇA\n",
        "\n",
        "https://www.datasciencearth.com/numpya-giris-bolum-6/\n",
        "\n",
        "https://github.com/zekkontro/python-veri-bilimi/blob/main/numpy.ipynb\n",
        "\n",
        "https://medium.com/deep-learning-turkiye/adan-z-ye-pandas-tutoriali-ba%C5%9Flang%C4%B1%C3%A7-ve-orta-seviye-4edf0094e0d5"
      ],
      "execution_count": null,
      "outputs": []
    }
  ]
}