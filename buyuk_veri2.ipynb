{
  "nbformat": 4,
  "nbformat_minor": 0,
  "metadata": {
    "colab": {
      "name": "buyuk_veri2.ipynb",
      "provenance": [],
      "authorship_tag": "ABX9TyNee+Eryv4nL8lnOI93yhdB"
    },
    "kernelspec": {
      "name": "python3",
      "display_name": "Python 3"
    },
    "language_info": {
      "name": "python"
    }
  },
  "cells": [
    {
      "cell_type": "code",
      "metadata": {
        "colab": {
          "base_uri": "https://localhost:8080/"
        },
        "id": "MjcI2CapKq1F",
        "outputId": "7c8cd960-83b0-4a7c-b5ff-ab1b37697da6"
      },
      "source": [
        "sozluk={}\n",
        "sozluk1=dict()\n",
        "print(type(sozluk),type(sozluk1))"
      ],
      "execution_count": 1,
      "outputs": [
        {
          "output_type": "stream",
          "name": "stdout",
          "text": [
            "<class 'dict'> <class 'dict'>\n"
          ]
        }
      ]
    },
    {
      "cell_type": "code",
      "metadata": {
        "colab": {
          "base_uri": "https://localhost:8080/"
        },
        "id": "2LDB3SgLNAhO",
        "outputId": "81f3d1c7-4948-4615-ae40-c2566997c284"
      },
      "source": [
        "sozluk['Bir']=1\n",
        "sozluk['İki']=2\n",
        "print(sozluk)"
      ],
      "execution_count": 2,
      "outputs": [
        {
          "output_type": "stream",
          "name": "stdout",
          "text": [
            "{'Bir': 1, 'İki': 2}\n"
          ]
        }
      ]
    },
    {
      "cell_type": "code",
      "metadata": {
        "colab": {
          "base_uri": "https://localhost:8080/"
        },
        "id": "6oTO12mANPJl",
        "outputId": "b279c75f-ba55-4aa1-d1ee-9ac11ad07be0"
      },
      "source": [
        "print(sozluk['Bir'])"
      ],
      "execution_count": 3,
      "outputs": [
        {
          "output_type": "stream",
          "name": "stdout",
          "text": [
            "1\n"
          ]
        }
      ]
    },
    {
      "cell_type": "code",
      "metadata": {
        "id": "coUfWATDNXgk"
      },
      "source": [
        "isimler=['Ali','Esmanur','Gül','Baransel']\n",
        "numara=[1,2,3,4]"
      ],
      "execution_count": 4,
      "outputs": []
    },
    {
      "cell_type": "code",
      "metadata": {
        "colab": {
          "base_uri": "https://localhost:8080/"
        },
        "id": "ApOImAR6NmXG",
        "outputId": "af2eebf8-49e9-454a-dcb5-f2e24ac050e2"
      },
      "source": [
        "sozluk3=zip(isimler,numara)\n",
        "print(type(sozluk3))\n",
        "sozluk4=dict(sozluk3)\n",
        "print(sozluk4)"
      ],
      "execution_count": 9,
      "outputs": [
        {
          "output_type": "stream",
          "name": "stdout",
          "text": [
            "<class 'zip'>\n",
            "{'Ali': 1, 'Esmanur': 2, 'Gül': 3, 'Baransel': 4}\n"
          ]
        }
      ]
    },
    {
      "cell_type": "code",
      "metadata": {
        "colab": {
          "base_uri": "https://localhost:8080/"
        },
        "id": "v5SBaYslOVmk",
        "outputId": "e8866ed3-e354-4bc6-8d06-2dca236f63e0"
      },
      "source": [
        "sozluk4"
      ],
      "execution_count": 10,
      "outputs": [
        {
          "output_type": "execute_result",
          "data": {
            "text/plain": [
              "{'Ali': 1, 'Baransel': 4, 'Esmanur': 2, 'Gül': 3}"
            ]
          },
          "metadata": {},
          "execution_count": 10
        }
      ]
    },
    {
      "cell_type": "code",
      "metadata": {
        "colab": {
          "base_uri": "https://localhost:8080/"
        },
        "id": "MFiZtXdiOfiQ",
        "outputId": "51f4ace6-a189-44d2-a37f-95473ab17294"
      },
      "source": [
        "#Dict ==>key,value\n",
        "sozluk4.keys()"
      ],
      "execution_count": 11,
      "outputs": [
        {
          "output_type": "execute_result",
          "data": {
            "text/plain": [
              "dict_keys(['Ali', 'Esmanur', 'Gül', 'Baransel'])"
            ]
          },
          "metadata": {},
          "execution_count": 11
        }
      ]
    },
    {
      "cell_type": "code",
      "metadata": {
        "colab": {
          "base_uri": "https://localhost:8080/"
        },
        "id": "DGxH9mBTOsjv",
        "outputId": "234c8af3-515e-455f-94b6-99936a7fa4bf"
      },
      "source": [
        "sozluk4.values()"
      ],
      "execution_count": 12,
      "outputs": [
        {
          "output_type": "execute_result",
          "data": {
            "text/plain": [
              "dict_values([1, 2, 3, 4])"
            ]
          },
          "metadata": {},
          "execution_count": 12
        }
      ]
    },
    {
      "cell_type": "code",
      "metadata": {
        "colab": {
          "base_uri": "https://localhost:8080/"
        },
        "id": "bnflQy_UOwzd",
        "outputId": "3933ab95-97df-4d54-81b3-e4ee984009d6"
      },
      "source": [
        "sozluk4.items()"
      ],
      "execution_count": 13,
      "outputs": [
        {
          "output_type": "execute_result",
          "data": {
            "text/plain": [
              "dict_items([('Ali', 1), ('Esmanur', 2), ('Gül', 3), ('Baransel', 4)])"
            ]
          },
          "metadata": {},
          "execution_count": 13
        }
      ]
    },
    {
      "cell_type": "markdown",
      "metadata": {
        "id": "rDXh-_RFPFyq"
      },
      "source": [
        "TUPLES"
      ]
    },
    {
      "cell_type": "code",
      "metadata": {
        "colab": {
          "base_uri": "https://localhost:8080/"
        },
        "id": "yUFAdl9yPFbQ",
        "outputId": "84dcb9a4-0e3d-43d3-bdc1-8fef39511a9e"
      },
      "source": [
        "abc=divmod(17,4)\n",
        "print(abc)\n",
        "print(type(abc))"
      ],
      "execution_count": 16,
      "outputs": [
        {
          "output_type": "stream",
          "name": "stdout",
          "text": [
            "(4, 1)\n",
            "<class 'tuple'>\n"
          ]
        }
      ]
    },
    {
      "cell_type": "code",
      "metadata": {
        "id": "m4DpdCIAPeiH"
      },
      "source": [
        "a=[1,2]\n",
        "b=[]"
      ],
      "execution_count": 17,
      "outputs": []
    },
    {
      "cell_type": "code",
      "metadata": {
        "id": "yBhFOtQhPjQ0"
      },
      "source": [
        "t=(1,2,3)\n",
        "t2=tuple()"
      ],
      "execution_count": 20,
      "outputs": []
    },
    {
      "cell_type": "code",
      "metadata": {
        "colab": {
          "base_uri": "https://localhost:8080/",
          "height": 163
        },
        "id": "443J5uQyPo2a",
        "outputId": "3cd85a3c-e4d0-4c0a-eacb-7a5a59af283c"
      },
      "source": [
        "t.append(5)"
      ],
      "execution_count": 22,
      "outputs": [
        {
          "output_type": "error",
          "ename": "AttributeError",
          "evalue": "ignored",
          "traceback": [
            "\u001b[0;31m---------------------------------------------------------------------------\u001b[0m",
            "\u001b[0;31mAttributeError\u001b[0m                            Traceback (most recent call last)",
            "\u001b[0;32m<ipython-input-22-7bc26d8122b5>\u001b[0m in \u001b[0;36m<module>\u001b[0;34m()\u001b[0m\n\u001b[0;32m----> 1\u001b[0;31m \u001b[0mt\u001b[0m\u001b[0;34m.\u001b[0m\u001b[0mappend\u001b[0m\u001b[0;34m(\u001b[0m\u001b[0;36m5\u001b[0m\u001b[0;34m)\u001b[0m\u001b[0;34m\u001b[0m\u001b[0;34m\u001b[0m\u001b[0m\n\u001b[0m",
            "\u001b[0;31mAttributeError\u001b[0m: 'tuple' object has no attribute 'append'"
          ]
        }
      ]
    },
    {
      "cell_type": "code",
      "metadata": {
        "colab": {
          "base_uri": "https://localhost:8080/"
        },
        "id": "MulhLteLQC8N",
        "outputId": "e253843a-fcd8-4b9d-f998-fade708cf41a"
      },
      "source": [
        "aa=15\n",
        "if aa<20:\n",
        "  print('Sayı küçük...')"
      ],
      "execution_count": 23,
      "outputs": [
        {
          "output_type": "stream",
          "name": "stdout",
          "text": [
            "Sayı küçük...\n"
          ]
        }
      ]
    },
    {
      "cell_type": "code",
      "metadata": {
        "colab": {
          "base_uri": "https://localhost:8080/"
        },
        "id": "_fbaBqJWQKyD",
        "outputId": "76d0fb16-2600-4d4f-92f5-79f3f4745e7b"
      },
      "source": [
        "if aa>10:\n",
        "  print('Sayı büyük')\n",
        "else:\n",
        "  print('Sayı küçük')"
      ],
      "execution_count": 25,
      "outputs": [
        {
          "output_type": "stream",
          "name": "stdout",
          "text": [
            "Sayı büyük\n"
          ]
        }
      ]
    },
    {
      "cell_type": "code",
      "metadata": {
        "colab": {
          "base_uri": "https://localhost:8080/"
        },
        "id": "Dam2_oB9Qc4n",
        "outputId": "f2667566-ba61-42c8-b998-2684b8197f47"
      },
      "source": [
        "sayi1=15\n",
        "sayi2=17\n",
        "if sayi1>sayi2:\n",
        "  print('sayi1>sayi2')\n",
        "elif sayi1<sayi2:\n",
        "  print('sayi1<sayi2')\n",
        "else:\n",
        "  print('sayi1=sayi2')"
      ],
      "execution_count": 30,
      "outputs": [
        {
          "output_type": "stream",
          "name": "stdout",
          "text": [
            "sayi1<sayi2\n"
          ]
        }
      ]
    },
    {
      "cell_type": "code",
      "metadata": {
        "colab": {
          "base_uri": "https://localhost:8080/"
        },
        "id": "AyqQklzhQ_-I",
        "outputId": "5afce361-1d7d-48f3-aced-9e019606c7a7"
      },
      "source": [
        "if sayi1>sayi2:\n",
        "  print('sayi1>sayi2')\n",
        "else:\n",
        "  if sayi1<sayi2:\n",
        "    print('sayi1<sayi2')\n",
        "  else:\n",
        "    print('sayi1=sayi2')"
      ],
      "execution_count": 31,
      "outputs": [
        {
          "output_type": "stream",
          "name": "stdout",
          "text": [
            "sayi1<sayi2\n"
          ]
        }
      ]
    },
    {
      "cell_type": "code",
      "metadata": {
        "colab": {
          "base_uri": "https://localhost:8080/"
        },
        "id": "0X0dwMbZRek8",
        "outputId": "78a86e82-4d55-4133-b618-59a3c3e04724"
      },
      "source": [
        "for eleman in [1,2,3,4,5,6]:\n",
        "  print(eleman *2)"
      ],
      "execution_count": 34,
      "outputs": [
        {
          "output_type": "stream",
          "name": "stdout",
          "text": [
            "2\n",
            "4\n",
            "6\n",
            "8\n",
            "10\n",
            "12\n"
          ]
        }
      ]
    },
    {
      "cell_type": "code",
      "metadata": {
        "colab": {
          "base_uri": "https://localhost:8080/"
        },
        "id": "XIDicheUR_-b",
        "outputId": "8baffbe0-3ff6-4f2b-c75c-f247e62df4af"
      },
      "source": [
        "a=[7,8,9,10,11]\n",
        "for x in a:\n",
        "  print(x / 2)"
      ],
      "execution_count": 36,
      "outputs": [
        {
          "output_type": "stream",
          "name": "stdout",
          "text": [
            "3.5\n",
            "4.0\n",
            "4.5\n",
            "5.0\n",
            "5.5\n"
          ]
        }
      ]
    },
    {
      "cell_type": "code",
      "metadata": {
        "colab": {
          "base_uri": "https://localhost:8080/"
        },
        "id": "5GnXUzv0SUU_",
        "outputId": "9f699b31-1e58-4b2e-cc6b-c7326398b7b0"
      },
      "source": [
        "nestedList=[[1,2,3],[4,5,6],[7,8,9]]\n",
        "for list1 in nestedList:\n",
        "  print(list1)"
      ],
      "execution_count": 37,
      "outputs": [
        {
          "output_type": "stream",
          "name": "stdout",
          "text": [
            "[1, 2, 3]\n",
            "[4, 5, 6]\n",
            "[7, 8, 9]\n"
          ]
        }
      ]
    },
    {
      "cell_type": "code",
      "metadata": {
        "colab": {
          "base_uri": "https://localhost:8080/"
        },
        "id": "Sbugp5l4SsuX",
        "outputId": "f13bb39b-9094-497d-f055-ded076b4f0a9"
      },
      "source": [
        "aranacakSayi=int(input('Arancak Veriyi Giriniz.'))\n",
        "for list1 in nestedList:\n",
        "  for w in list1:\n",
        "    if w==aranacakSayi:\n",
        "      print('Bu bilgi listede var...')\n"
      ],
      "execution_count": 43,
      "outputs": [
        {
          "output_type": "stream",
          "name": "stdout",
          "text": [
            "Arancak Veriyi Giriniz.2\n",
            "Bu bilgi listede var...\n"
          ]
        }
      ]
    },
    {
      "cell_type": "code",
      "metadata": {
        "colab": {
          "base_uri": "https://localhost:8080/"
        },
        "id": "1GEm7E-4TpyU",
        "outputId": "694d9b03-bd22-459f-be49-8e3301476b34"
      },
      "source": [
        "aranacakSayi=int(input('Arancak Veriyi Giriniz.'))\n",
        "var=0\n",
        "for list1 in nestedList:\n",
        "  for w in list1:\n",
        "    if w==aranacakSayi:\n",
        "      var=1\n",
        "if var==1:\n",
        "  print('Bu bilgi listede var...')\n",
        "else:\n",
        "  print('Bu bilgi listede yok..')"
      ],
      "execution_count": 45,
      "outputs": [
        {
          "output_type": "stream",
          "name": "stdout",
          "text": [
            "Arancak Veriyi Giriniz.15\n",
            "Bu bilgi listede yok..\n"
          ]
        }
      ]
    },
    {
      "cell_type": "code",
      "metadata": {
        "colab": {
          "base_uri": "https://localhost:8080/"
        },
        "id": "7QRol7b6Z6MY",
        "outputId": "a00d050f-514a-4186-f494-1ea8ebd4d80c"
      },
      "source": [
        "i=1\n",
        "while i<5:\n",
        "  print(i)\n",
        "  i=i+1"
      ],
      "execution_count": 48,
      "outputs": [
        {
          "output_type": "stream",
          "name": "stdout",
          "text": [
            "1\n",
            "2\n",
            "3\n",
            "4\n"
          ]
        }
      ]
    },
    {
      "cell_type": "code",
      "metadata": {
        "colab": {
          "base_uri": "https://localhost:8080/"
        },
        "id": "MosqJgnKaKwh",
        "outputId": "61e6f79e-819d-4101-a76a-c64316ef8970"
      },
      "source": [
        "for x in range(10):\n",
        "  print(x)\n",
        "  if x>=5:\n",
        "    break"
      ],
      "execution_count": 51,
      "outputs": [
        {
          "output_type": "stream",
          "name": "stdout",
          "text": [
            "0\n",
            "1\n",
            "2\n",
            "3\n",
            "4\n",
            "5\n"
          ]
        }
      ]
    },
    {
      "cell_type": "code",
      "metadata": {
        "colab": {
          "base_uri": "https://localhost:8080/"
        },
        "id": "gkheKtMpan5p",
        "outputId": "0f689b4a-4be3-4fb3-cfd3-d0b2f56ab9d8"
      },
      "source": [
        "for i in range(10):#0 1 2 3 4 5 6 7 8 9 \n",
        "  if i>3:\n",
        "    print('Büyük')\n",
        "    continue\n",
        "  elif i<6:\n",
        "    print(i)"
      ],
      "execution_count": 53,
      "outputs": [
        {
          "output_type": "stream",
          "name": "stdout",
          "text": [
            "0\n",
            "1\n",
            "2\n",
            "3\n",
            "Büyük\n",
            "Büyük\n",
            "Büyük\n",
            "Büyük\n",
            "Büyük\n",
            "Büyük\n"
          ]
        }
      ]
    },
    {
      "cell_type": "code",
      "metadata": {
        "colab": {
          "base_uri": "https://localhost:8080/"
        },
        "id": "ou9hXtNBbKxG",
        "outputId": "b96c203c-03f9-4908-f202-fcd13452dff3"
      },
      "source": [
        "[10*x for x in range(1,5)]"
      ],
      "execution_count": 54,
      "outputs": [
        {
          "output_type": "execute_result",
          "data": {
            "text/plain": [
              "[10, 20, 30, 40]"
            ]
          },
          "metadata": {},
          "execution_count": 54
        }
      ]
    },
    {
      "cell_type": "code",
      "metadata": {
        "colab": {
          "base_uri": "https://localhost:8080/"
        },
        "id": "ei1-Y2SAbbmk",
        "outputId": "525e792e-0fea-4171-d3e7-e8f5ef607091"
      },
      "source": [
        "[i**2 for i in range(20) if i<5] #0 1 2 3 4"
      ],
      "execution_count": 55,
      "outputs": [
        {
          "output_type": "execute_result",
          "data": {
            "text/plain": [
              "[0, 1, 4, 9, 16]"
            ]
          },
          "metadata": {},
          "execution_count": 55
        }
      ]
    },
    {
      "cell_type": "code",
      "metadata": {
        "colab": {
          "base_uri": "https://localhost:8080/"
        },
        "id": "fkfiB6KTb22G",
        "outputId": "cea78029-b053-4cd9-aa1a-c5d36b51dcc6"
      },
      "source": [
        "[i*x for i in range(20) if i==3 for x in range(1,11)]"
      ],
      "execution_count": 57,
      "outputs": [
        {
          "output_type": "execute_result",
          "data": {
            "text/plain": [
              "[3, 6, 9, 12, 15, 18, 21, 24, 27, 30]"
            ]
          },
          "metadata": {},
          "execution_count": 57
        }
      ]
    },
    {
      "cell_type": "code",
      "metadata": {
        "colab": {
          "base_uri": "https://localhost:8080/"
        },
        "id": "XMcxWpOpcjMG",
        "outputId": "b0444ce0-c088-41cb-f1dd-9a0b902040e7"
      },
      "source": [
        "print('Merhaba Dünya!')\n",
        "print('Akhisar MYO')"
      ],
      "execution_count": 58,
      "outputs": [
        {
          "output_type": "stream",
          "name": "stdout",
          "text": [
            "Merhaba Dünya!\n",
            "Akhisar MYO\n"
          ]
        }
      ]
    },
    {
      "cell_type": "code",
      "metadata": {
        "id": "BAvYMur9csh0"
      },
      "source": [
        "def printMessage():\n",
        "  print('Merhaba Dünya!')\n",
        "  print('Akhisar MYO')"
      ],
      "execution_count": 59,
      "outputs": []
    },
    {
      "cell_type": "code",
      "metadata": {
        "colab": {
          "base_uri": "https://localhost:8080/"
        },
        "id": "jYedS9WNc0-k",
        "outputId": "2a6cb84e-8b8c-457b-ae02-2aae2233fad2"
      },
      "source": [
        "printMessage()"
      ],
      "execution_count": 60,
      "outputs": [
        {
          "output_type": "stream",
          "name": "stdout",
          "text": [
            "Merhaba Dünya!\n",
            "Akhisar MYO\n"
          ]
        }
      ]
    },
    {
      "cell_type": "code",
      "metadata": {
        "id": "KkGp-51_c7Iy"
      },
      "source": [
        "def helloFunc(name):\n",
        "  print(\"Merhaba \", name + \" hoşgeldin..\")\n",
        "  print(name + \",\",\"Nasılsın?\")"
      ],
      "execution_count": 64,
      "outputs": []
    },
    {
      "cell_type": "code",
      "metadata": {
        "colab": {
          "base_uri": "https://localhost:8080/"
        },
        "id": "DBauQvK9dUUi",
        "outputId": "54d6b2cd-ff03-434b-f855-6da461ee46d0"
      },
      "source": [
        "bilgi=input('İsminizi giriniz...')\n",
        "helloFunc(bilgi)"
      ],
      "execution_count": 65,
      "outputs": [
        {
          "output_type": "stream",
          "name": "stdout",
          "text": [
            "İsminizi giriniz...Baransel\n",
            "Merhaba  Baransel hoşgeldin..\n",
            "Baransel, Nasılsın?\n"
          ]
        }
      ]
    },
    {
      "cell_type": "code",
      "metadata": {
        "id": "TKDcX2dndoIG"
      },
      "source": [
        "def ikinciFonk():\n",
        "  bilgi=input('İsminizi giriniz...')\n",
        "  helloFunc(bilgi)"
      ],
      "execution_count": 66,
      "outputs": []
    },
    {
      "cell_type": "code",
      "metadata": {
        "colab": {
          "base_uri": "https://localhost:8080/"
        },
        "id": "QC_YH0Djdx1e",
        "outputId": "129f9c2e-e99c-4b8e-e08b-a957ca521184"
      },
      "source": [
        "ikinciFonk()"
      ],
      "execution_count": 67,
      "outputs": [
        {
          "output_type": "stream",
          "name": "stdout",
          "text": [
            "İsminizi giriniz...Esmanur\n",
            "Merhaba  Esmanur hoşgeldin..\n",
            "Esmanur, Nasılsın?\n"
          ]
        }
      ]
    },
    {
      "cell_type": "code",
      "metadata": {
        "id": "Itmex8AheIh2"
      },
      "source": [
        "def carp(a,b):\n",
        "  '''Bu fonksiyon kendisine gelen 2 sayıyı çarpar...'''\n",
        "  sonuc=a*b\n",
        "  return sonuc"
      ],
      "execution_count": 70,
      "outputs": []
    },
    {
      "cell_type": "code",
      "metadata": {
        "colab": {
          "base_uri": "https://localhost:8080/"
        },
        "id": "8b8DbASYeUZQ",
        "outputId": "c512072f-412e-494d-dda5-d5dee0d41039"
      },
      "source": [
        "deger=carp(3,6)\n",
        "print(deger)"
      ],
      "execution_count": 69,
      "outputs": [
        {
          "output_type": "stream",
          "name": "stdout",
          "text": [
            "18\n"
          ]
        }
      ]
    },
    {
      "cell_type": "code",
      "metadata": {
        "colab": {
          "base_uri": "https://localhost:8080/"
        },
        "id": "W1saiGI8emtC",
        "outputId": "dc2271ff-1ecb-464e-f239-a2995ff8b1c7"
      },
      "source": [
        "help(carp)"
      ],
      "execution_count": 71,
      "outputs": [
        {
          "output_type": "stream",
          "name": "stdout",
          "text": [
            "Help on function carp in module __main__:\n",
            "\n",
            "carp(a, b)\n",
            "    Bu fonksiyon kendisine gelen 2 sayıyı çarpar...\n",
            "\n"
          ]
        }
      ]
    },
    {
      "cell_type": "code",
      "metadata": {
        "id": "mHG04tJ_ewzI"
      },
      "source": [
        "liste1=[10,15,35,12,5,7]"
      ],
      "execution_count": 72,
      "outputs": []
    },
    {
      "cell_type": "code",
      "metadata": {
        "id": "tAIbDomme3-a"
      },
      "source": [
        "def bilgiVer(lst):\n",
        "  enBuyuk=max(lst)\n",
        "  enKucuk=min(lst)\n",
        "  ilk=lst[0]\n",
        "  son=lst[-1]\n",
        "  return enBuyuk,enKucuk,ilk,son"
      ],
      "execution_count": 73,
      "outputs": []
    },
    {
      "cell_type": "code",
      "metadata": {
        "colab": {
          "base_uri": "https://localhost:8080/"
        },
        "id": "tr_fFmOVfTQu",
        "outputId": "1f06d7d2-87ae-40e4-cc96-d422d8c19648"
      },
      "source": [
        "bilgiVer(liste1)"
      ],
      "execution_count": 75,
      "outputs": [
        {
          "output_type": "execute_result",
          "data": {
            "text/plain": [
              "(35, 5, 10, 7)"
            ]
          },
          "metadata": {},
          "execution_count": 75
        }
      ]
    },
    {
      "cell_type": "code",
      "metadata": {
        "colab": {
          "base_uri": "https://localhost:8080/"
        },
        "id": "A5O2FXVqfgUm",
        "outputId": "8b620ed5-af44-4880-b03f-e434373f1d36"
      },
      "source": [
        "buyuk,kucuk,ilk,son=bilgiVer(liste1)\n",
        "print('En Büyük Eleman =',buyuk, '\\nEn Küçük Eleman =',kucuk, '\\nİlk Eleman =',ilk, '\\nSon Eleman =',son)"
      ],
      "execution_count": 79,
      "outputs": [
        {
          "output_type": "stream",
          "name": "stdout",
          "text": [
            "En Büyük Eleman = 35 \n",
            "En Küçük Eleman = 5 \n",
            "İlk Eleman = 10 \n",
            "Son Eleman = 7\n"
          ]
        }
      ]
    },
    {
      "cell_type": "code",
      "metadata": {
        "id": "d0ExAnWBgN5-"
      },
      "source": [
        "def topla(x,y,z=10):\n",
        "  return x+y+z"
      ],
      "execution_count": 82,
      "outputs": []
    },
    {
      "cell_type": "code",
      "metadata": {
        "colab": {
          "base_uri": "https://localhost:8080/"
        },
        "id": "WJeOgRw5gT9m",
        "outputId": "e5766789-95af-41a4-8817-d0d3bbb1bbc4"
      },
      "source": [
        "topla(3,5)"
      ],
      "execution_count": 84,
      "outputs": [
        {
          "output_type": "execute_result",
          "data": {
            "text/plain": [
              "18"
            ]
          },
          "metadata": {},
          "execution_count": 84
        }
      ]
    },
    {
      "cell_type": "code",
      "metadata": {
        "id": "8pQDH8ALhFSx"
      },
      "source": [
        "z=lambda x:x*x"
      ],
      "execution_count": 85,
      "outputs": []
    },
    {
      "cell_type": "code",
      "metadata": {
        "colab": {
          "base_uri": "https://localhost:8080/"
        },
        "id": "c09OdRoDhNjF",
        "outputId": "42435a52-2e27-4908-b39a-4edd9795d54b"
      },
      "source": [
        "z(5)"
      ],
      "execution_count": 86,
      "outputs": [
        {
          "output_type": "execute_result",
          "data": {
            "text/plain": [
              "25"
            ]
          },
          "metadata": {},
          "execution_count": 86
        }
      ]
    },
    {
      "cell_type": "code",
      "metadata": {
        "id": "_skxDb61hR9y"
      },
      "source": [
        "def z1(x):\n",
        "  return x*x"
      ],
      "execution_count": 87,
      "outputs": []
    },
    {
      "cell_type": "code",
      "metadata": {
        "colab": {
          "base_uri": "https://localhost:8080/"
        },
        "id": "nyf8u0KchWnz",
        "outputId": "4efcdbdc-3971-40a4-ec5b-b3dbf64cb9f2"
      },
      "source": [
        "z1(5)"
      ],
      "execution_count": 88,
      "outputs": [
        {
          "output_type": "execute_result",
          "data": {
            "text/plain": [
              "25"
            ]
          },
          "metadata": {},
          "execution_count": 88
        }
      ]
    },
    {
      "cell_type": "code",
      "metadata": {
        "id": "NxHNbKEbhcdf"
      },
      "source": [
        "def kalan(bolunen,bolen):\n",
        "  return bolunen %bolen"
      ],
      "execution_count": 89,
      "outputs": []
    },
    {
      "cell_type": "code",
      "metadata": {
        "colab": {
          "base_uri": "https://localhost:8080/"
        },
        "id": "7Ge8tShHhlof",
        "outputId": "410d7852-dcbc-4c6d-a46e-fdd43f750b74"
      },
      "source": [
        "kalan(30,7)"
      ],
      "execution_count": 90,
      "outputs": [
        {
          "output_type": "execute_result",
          "data": {
            "text/plain": [
              "2"
            ]
          },
          "metadata": {},
          "execution_count": 90
        }
      ]
    },
    {
      "cell_type": "code",
      "metadata": {
        "id": "a2vu6WUchvlo"
      },
      "source": [
        "kalan1=lambda bolunen,bolen:bolunen%bolen"
      ],
      "execution_count": 91,
      "outputs": []
    },
    {
      "cell_type": "code",
      "metadata": {
        "colab": {
          "base_uri": "https://localhost:8080/"
        },
        "id": "rHD7W-uth5-w",
        "outputId": "cb845e45-3d77-4153-8810-48a1f407a8af"
      },
      "source": [
        "kalan1(30,7)"
      ],
      "execution_count": 92,
      "outputs": [
        {
          "output_type": "execute_result",
          "data": {
            "text/plain": [
              "2"
            ]
          },
          "metadata": {},
          "execution_count": 92
        }
      ]
    },
    {
      "cell_type": "code",
      "metadata": {
        "id": "og9wyW2-iE_C"
      },
      "source": [
        "lst1=[1,2,3,4,5]"
      ],
      "execution_count": 93,
      "outputs": []
    },
    {
      "cell_type": "code",
      "metadata": {
        "colab": {
          "base_uri": "https://localhost:8080/"
        },
        "id": "8mqnKy-wiJ9U",
        "outputId": "5f7e1edd-73b5-4f47-9285-f6a84e847594"
      },
      "source": [
        "newLst=map(lambda x:x+2, lst1)\n",
        "aaa=list(newLst)\n",
        "print(aaa)"
      ],
      "execution_count": 96,
      "outputs": [
        {
          "output_type": "stream",
          "name": "stdout",
          "text": [
            "[3, 4, 5, 6, 7]\n"
          ]
        }
      ]
    },
    {
      "cell_type": "code",
      "metadata": {
        "id": "0H66ZR9viqO-"
      },
      "source": [
        "lst2=[6,7,8,9,10]"
      ],
      "execution_count": 97,
      "outputs": []
    },
    {
      "cell_type": "code",
      "metadata": {
        "colab": {
          "base_uri": "https://localhost:8080/"
        },
        "id": "5t1WOZyOiwjv",
        "outputId": "863e9de0-55e2-4612-c86a-12488f53a6fe"
      },
      "source": [
        "newLst2=map(lambda x,y:x+y, lst1,lst2)\n",
        "newLst2=list(newLst2)\n",
        "print(newLst2)"
      ],
      "execution_count": 100,
      "outputs": [
        {
          "output_type": "stream",
          "name": "stdout",
          "text": [
            "[7, 9, 11, 13, 15]\n"
          ]
        }
      ]
    },
    {
      "cell_type": "code",
      "metadata": {
        "colab": {
          "base_uri": "https://localhost:8080/"
        },
        "id": "D1gRM34tjOIX",
        "outputId": "54e7fd15-ebb8-4ed3-9f2a-1647f570ed40"
      },
      "source": [
        "kelimeler=['python','turbo c','c sharp']\n",
        "print(list(map(lambda bilgi:bilgi.upper(), kelimeler)))"
      ],
      "execution_count": 102,
      "outputs": [
        {
          "output_type": "stream",
          "name": "stdout",
          "text": [
            "['PYTHON', 'TURBO C', 'C SHARP']\n"
          ]
        }
      ]
    },
    {
      "cell_type": "code",
      "metadata": {
        "id": "2Q5mhXHmjpN_"
      },
      "source": [
        "lst1=[1,2,3,4,5,6,7,8,9]"
      ],
      "execution_count": 103,
      "outputs": []
    },
    {
      "cell_type": "code",
      "metadata": {
        "colab": {
          "base_uri": "https://localhost:8080/"
        },
        "id": "HZ7okh5Yjxlc",
        "outputId": "45000e76-e34f-4267-bd06-9637683d69d4"
      },
      "source": [
        "print(list(filter(lambda x:x<4, lst1)))\n",
        "print(list(map(lambda x:x<4, lst1)))\n",
        "print(lst1)"
      ],
      "execution_count": 108,
      "outputs": [
        {
          "output_type": "stream",
          "name": "stdout",
          "text": [
            "[1, 2, 3]\n",
            "[True, True, True, False, False, False, False, False, False]\n",
            "[1, 2, 3, 4, 5, 6, 7, 8, 9]\n"
          ]
        }
      ]
    },
    {
      "cell_type": "code",
      "metadata": {
        "colab": {
          "base_uri": "https://localhost:8080/"
        },
        "id": "lPyCJ8htkS9d",
        "outputId": "a86b3808-01be-43c3-bfbd-1af456bb2541"
      },
      "source": [
        "print(list(filter(lambda x:x%2==0, lst1)))"
      ],
      "execution_count": 106,
      "outputs": [
        {
          "output_type": "stream",
          "name": "stdout",
          "text": [
            "[2, 4, 6, 8]\n"
          ]
        }
      ]
    },
    {
      "cell_type": "code",
      "metadata": {
        "colab": {
          "base_uri": "https://localhost:8080/"
        },
        "id": "B0HQdnEdkjz0",
        "outputId": "73a4df7f-952c-4073-fee3-5c726d9bbf97"
      },
      "source": [
        "print(list(map(lambda x:x%2==0, lst1)))"
      ],
      "execution_count": 107,
      "outputs": [
        {
          "output_type": "stream",
          "name": "stdout",
          "text": [
            "[False, True, False, True, False, True, False, True, False]\n"
          ]
        }
      ]
    },
    {
      "cell_type": "code",
      "metadata": {
        "id": "bPu7lvMRlGIf"
      },
      "source": [
        "def topla1(*args):\n",
        "  relist=[]\n",
        "  for i in args:\n",
        "    relist.append(i)\n",
        "  print(relist)\n",
        "  return sum(relist)"
      ],
      "execution_count": 109,
      "outputs": []
    },
    {
      "cell_type": "code",
      "metadata": {
        "colab": {
          "base_uri": "https://localhost:8080/"
        },
        "id": "wLEy8KOSliyX",
        "outputId": "8387ae2a-ef6c-48de-e01c-65fcce35c3cf"
      },
      "source": [
        "topla1(1,2,3,4)"
      ],
      "execution_count": 110,
      "outputs": [
        {
          "output_type": "stream",
          "name": "stdout",
          "text": [
            "[1, 2, 3, 4]\n"
          ]
        },
        {
          "output_type": "execute_result",
          "data": {
            "text/plain": [
              "10"
            ]
          },
          "metadata": {},
          "execution_count": 110
        }
      ]
    },
    {
      "cell_type": "code",
      "metadata": {
        "colab": {
          "base_uri": "https://localhost:8080/"
        },
        "id": "uhya3AlUloRr",
        "outputId": "fd4ce2c7-0f63-455c-f878-e349807b8e08"
      },
      "source": [
        "topla1(1,2,3,4,5,6,7,8,9)"
      ],
      "execution_count": 111,
      "outputs": [
        {
          "output_type": "stream",
          "name": "stdout",
          "text": [
            "[1, 2, 3, 4, 5, 6, 7, 8, 9]\n"
          ]
        },
        {
          "output_type": "execute_result",
          "data": {
            "text/plain": [
              "45"
            ]
          },
          "metadata": {},
          "execution_count": 111
        }
      ]
    },
    {
      "cell_type": "markdown",
      "metadata": {
        "id": "TRZ95Eo5mXyb"
      },
      "source": [
        "KAYNAKÇA\n",
        "\n",
        "https://github.com/rajathkumarmp/Python-Lectures\n",
        "\n",
        "https://github.com/snnclsr/buyuk_veri_analizi\n",
        "\n"
      ]
    }
  ]
}