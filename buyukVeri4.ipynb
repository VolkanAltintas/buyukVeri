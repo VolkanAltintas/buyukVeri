{
  "nbformat": 4,
  "nbformat_minor": 0,
  "metadata": {
    "colab": {
      "name": "buyukVeri4.ipynb",
      "provenance": [],
      "authorship_tag": "ABX9TyPgFwom9XuaCc3MW6VB1FyM"
    },
    "kernelspec": {
      "name": "python3",
      "display_name": "Python 3"
    },
    "language_info": {
      "name": "python"
    }
  },
  "cells": [
    {
      "cell_type": "markdown",
      "metadata": {
        "id": "6zbg1nnjTAMm"
      },
      "source": [
        "PANDAS KÜTÜPHANESİ"
      ]
    },
    {
      "cell_type": "code",
      "metadata": {
        "id": "z8E7o4hmN70_"
      },
      "source": [
        "import pandas as pd"
      ],
      "execution_count": 2,
      "outputs": []
    },
    {
      "cell_type": "code",
      "metadata": {
        "colab": {
          "base_uri": "https://localhost:8080/"
        },
        "id": "NdrlPdpxT2WM",
        "outputId": "b6c2bcbf-c58d-4e92-bfee-f1ed7c8f4233"
      },
      "source": [
        "list1=['Akhisar','Meslek','Yüksekokulu']\n",
        "list2=[1,2,3]\n",
        "Series1=pd.Series(list1,list2)\n",
        "print(Series1)"
      ],
      "execution_count": 5,
      "outputs": [
        {
          "output_type": "stream",
          "name": "stdout",
          "text": [
            "1        Akhisar\n",
            "2         Meslek\n",
            "3    Yüksekokulu\n",
            "dtype: object\n"
          ]
        }
      ]
    },
    {
      "cell_type": "code",
      "metadata": {
        "colab": {
          "base_uri": "https://localhost:8080/"
        },
        "id": "zlCyhi9SUySi",
        "outputId": "9ec20a14-acd5-478a-b18f-1c554049d33e"
      },
      "source": [
        "import numpy as np\n",
        "list3=np.array(['a','b','c'])\n",
        "Series2=pd.Series(list3,[10,20,30])\n",
        "print(Series2)"
      ],
      "execution_count": 8,
      "outputs": [
        {
          "output_type": "stream",
          "name": "stdout",
          "text": [
            "10    a\n",
            "20    b\n",
            "30    c\n",
            "dtype: object\n"
          ]
        }
      ]
    },
    {
      "cell_type": "code",
      "metadata": {
        "colab": {
          "base_uri": "https://localhost:8080/"
        },
        "id": "Pnq08sW4VXjc",
        "outputId": "2745294f-2311-4308-e97f-5bfa588800aa"
      },
      "source": [
        "dict1={\"X'in değeri\":45,\"Y'nin değeri\" : 55}\n",
        "Series3=pd.Series(dict1)\n",
        "print(Series3)"
      ],
      "execution_count": 9,
      "outputs": [
        {
          "output_type": "stream",
          "name": "stdout",
          "text": [
            "X'in değeri     45\n",
            "Y'nin değeri    55\n",
            "dtype: int64\n"
          ]
        }
      ]
    },
    {
      "cell_type": "code",
      "metadata": {
        "colab": {
          "base_uri": "https://localhost:8080/"
        },
        "id": "MKqNgsaIV1Bq",
        "outputId": "5719c570-6543-45a9-f71a-7caad3f956f9"
      },
      "source": [
        "dict2={\"X'in değeri\" : 65}\n",
        "Series4=pd.Series(dict2)\n",
        "print(Series4)"
      ],
      "execution_count": 10,
      "outputs": [
        {
          "output_type": "stream",
          "name": "stdout",
          "text": [
            "X'in değeri    65\n",
            "dtype: int64\n"
          ]
        }
      ]
    },
    {
      "cell_type": "code",
      "metadata": {
        "colab": {
          "base_uri": "https://localhost:8080/"
        },
        "id": "exG9EO5ZWETm",
        "outputId": "9e81c168-7c9d-4ac8-9958-09db6b98f2a2"
      },
      "source": [
        "print(Series3+Series4)"
      ],
      "execution_count": 11,
      "outputs": [
        {
          "output_type": "stream",
          "name": "stdout",
          "text": [
            "X'in değeri     110.0\n",
            "Y'nin değeri      NaN\n",
            "dtype: float64\n"
          ]
        }
      ]
    },
    {
      "cell_type": "code",
      "metadata": {
        "colab": {
          "base_uri": "https://localhost:8080/"
        },
        "id": "8q1rNQiCWaJS",
        "outputId": "7beea0ee-dc19-48bf-a17c-b73d4f7eb6d5"
      },
      "source": [
        "from numpy.random import randn\n",
        "\n",
        "df=pd.DataFrame(data=randn(5,5), index=['A','B','C','D','E'], columns=['Col1','Col2','Col3','Col4','Col5'])\n",
        "print(df)"
      ],
      "execution_count": 13,
      "outputs": [
        {
          "output_type": "stream",
          "name": "stdout",
          "text": [
            "       Col1      Col2      Col3      Col4      Col5\n",
            "A  1.151531 -1.146424 -0.728445 -0.451027  0.290062\n",
            "B  0.784309  0.475396 -0.374341  0.164150  1.323543\n",
            "C  2.444142 -0.466525 -0.681425 -1.131101  0.408580\n",
            "D -0.188216 -1.457549  0.619353 -0.279622 -0.571749\n",
            "E -1.015089  0.362656  0.129915  0.656068  0.254654\n"
          ]
        }
      ]
    },
    {
      "cell_type": "code",
      "metadata": {
        "colab": {
          "base_uri": "https://localhost:8080/"
        },
        "id": "PdHG6uGSXTyX",
        "outputId": "0df18753-c240-47df-8876-1800500be19a"
      },
      "source": [
        "print(df['Col1'])"
      ],
      "execution_count": 14,
      "outputs": [
        {
          "output_type": "stream",
          "name": "stdout",
          "text": [
            "A    1.151531\n",
            "B    0.784309\n",
            "C    2.444142\n",
            "D   -0.188216\n",
            "E   -1.015089\n",
            "Name: Col1, dtype: float64\n"
          ]
        }
      ]
    },
    {
      "cell_type": "code",
      "metadata": {
        "colab": {
          "base_uri": "https://localhost:8080/"
        },
        "id": "ptOzVE1NXePR",
        "outputId": "c49f26ef-344a-4a10-8a8f-a83fd4aa75e3"
      },
      "source": [
        "print(df[['Col1','Col4']])"
      ],
      "execution_count": 16,
      "outputs": [
        {
          "output_type": "stream",
          "name": "stdout",
          "text": [
            "       Col1      Col4\n",
            "A  1.151531 -0.451027\n",
            "B  0.784309  0.164150\n",
            "C  2.444142 -1.131101\n",
            "D -0.188216 -0.279622\n",
            "E -1.015089  0.656068\n"
          ]
        }
      ]
    },
    {
      "cell_type": "code",
      "metadata": {
        "colab": {
          "base_uri": "https://localhost:8080/"
        },
        "id": "zOGBSUrHXwbn",
        "outputId": "13c257f6-8be1-4e4b-872d-374793be168b"
      },
      "source": [
        "df['Col6']=pd.Series(randn(5),['A','B','C','D','E'])\n",
        "print(df)"
      ],
      "execution_count": 18,
      "outputs": [
        {
          "output_type": "stream",
          "name": "stdout",
          "text": [
            "       Col1      Col2      Col3      Col4      Col5      Col6\n",
            "A  1.151531 -1.146424 -0.728445 -0.451027  0.290062  0.045137\n",
            "B  0.784309  0.475396 -0.374341  0.164150  1.323543  1.125478\n",
            "C  2.444142 -0.466525 -0.681425 -1.131101  0.408580  1.675601\n",
            "D -0.188216 -1.457549  0.619353 -0.279622 -0.571749 -0.784104\n",
            "E -1.015089  0.362656  0.129915  0.656068  0.254654  0.803558\n"
          ]
        }
      ]
    },
    {
      "cell_type": "code",
      "metadata": {
        "colab": {
          "base_uri": "https://localhost:8080/"
        },
        "id": "9WH6lJFmYKWO",
        "outputId": "6ddf5175-647e-41f3-a7c7-211ef87dce92"
      },
      "source": [
        "df['Col7']=(df['Col1']+df['Col2'])\n",
        "print(df)"
      ],
      "execution_count": 19,
      "outputs": [
        {
          "output_type": "stream",
          "name": "stdout",
          "text": [
            "       Col1      Col2      Col3      Col4      Col5      Col6      Col7\n",
            "A  1.151531 -1.146424 -0.728445 -0.451027  0.290062  0.045137  0.005106\n",
            "B  0.784309  0.475396 -0.374341  0.164150  1.323543  1.125478  1.259706\n",
            "C  2.444142 -0.466525 -0.681425 -1.131101  0.408580  1.675601  1.977617\n",
            "D -0.188216 -1.457549  0.619353 -0.279622 -0.571749 -0.784104 -1.645765\n",
            "E -1.015089  0.362656  0.129915  0.656068  0.254654  0.803558 -0.652433\n"
          ]
        }
      ]
    },
    {
      "cell_type": "code",
      "metadata": {
        "colab": {
          "base_uri": "https://localhost:8080/"
        },
        "id": "WK17LXo3YgUV",
        "outputId": "18b1a049-69a9-4582-b1fd-12dcf0b28519"
      },
      "source": [
        "df.drop('Col6', axis=1, inplace=True)\n",
        "#Axis default değeri 0'dır. 0 satırları 1 ise Sütunları gösterir.\n",
        "#inplace yapılan işlemin kalıcı olup olmadığını belirler. True olarak atanınca işlemler kalıcı olur...\n",
        "print(df)"
      ],
      "execution_count": 22,
      "outputs": [
        {
          "output_type": "stream",
          "name": "stdout",
          "text": [
            "       Col1      Col2      Col3      Col4      Col5\n",
            "A  1.151531 -1.146424 -0.728445 -0.451027  0.290062\n",
            "B  0.784309  0.475396 -0.374341  0.164150  1.323543\n",
            "C  2.444142 -0.466525 -0.681425 -1.131101  0.408580\n",
            "D -0.188216 -1.457549  0.619353 -0.279622 -0.571749\n",
            "E -1.015089  0.362656  0.129915  0.656068  0.254654\n"
          ]
        }
      ]
    },
    {
      "cell_type": "code",
      "metadata": {
        "colab": {
          "base_uri": "https://localhost:8080/"
        },
        "id": "pEEcSgbsY56T",
        "outputId": "0bd43640-c94a-4957-f0bf-cd00fb3526f8"
      },
      "source": [
        "print(df.loc['C'])"
      ],
      "execution_count": 23,
      "outputs": [
        {
          "output_type": "stream",
          "name": "stdout",
          "text": [
            "Col1    2.444142\n",
            "Col2   -0.466525\n",
            "Col3   -0.681425\n",
            "Col4   -1.131101\n",
            "Col5    0.408580\n",
            "Name: C, dtype: float64\n"
          ]
        }
      ]
    },
    {
      "cell_type": "code",
      "metadata": {
        "colab": {
          "base_uri": "https://localhost:8080/"
        },
        "id": "QElbIEFRZsSP",
        "outputId": "a96a194d-d25a-43bd-8448-5cd59312e87c"
      },
      "source": [
        "print(df.loc['A'])#Satırın adına göre\n",
        "print(df.iloc[0]) # İndekse göre işlem yapılıyor..."
      ],
      "execution_count": 24,
      "outputs": [
        {
          "output_type": "stream",
          "name": "stdout",
          "text": [
            "Col1    1.151531\n",
            "Col2   -1.146424\n",
            "Col3   -0.728445\n",
            "Col4   -0.451027\n",
            "Col5    0.290062\n",
            "Name: A, dtype: float64\n",
            "Col1    1.151531\n",
            "Col2   -1.146424\n",
            "Col3   -0.728445\n",
            "Col4   -0.451027\n",
            "Col5    0.290062\n",
            "Name: A, dtype: float64\n"
          ]
        }
      ]
    },
    {
      "cell_type": "code",
      "metadata": {
        "colab": {
          "base_uri": "https://localhost:8080/"
        },
        "id": "kwPOSmqjaTvl",
        "outputId": "915a80c3-9aae-4a3e-c109-30ce67b6786f"
      },
      "source": [
        "print(df.loc['A','Col5'])# A'nın Col5 isimli sütunundaki veriyi gösterir...."
      ],
      "execution_count": 25,
      "outputs": [
        {
          "output_type": "stream",
          "name": "stdout",
          "text": [
            "0.29006177298954616\n"
          ]
        }
      ]
    },
    {
      "cell_type": "code",
      "metadata": {
        "colab": {
          "base_uri": "https://localhost:8080/"
        },
        "id": "RfsjtGsoar24",
        "outputId": "a962d3a1-5e9b-4779-83eb-bf14f0f787cc"
      },
      "source": [
        "print(df)"
      ],
      "execution_count": 26,
      "outputs": [
        {
          "output_type": "stream",
          "name": "stdout",
          "text": [
            "       Col1      Col2      Col3      Col4      Col5\n",
            "A  1.151531 -1.146424 -0.728445 -0.451027  0.290062\n",
            "B  0.784309  0.475396 -0.374341  0.164150  1.323543\n",
            "C  2.444142 -0.466525 -0.681425 -1.131101  0.408580\n",
            "D -0.188216 -1.457549  0.619353 -0.279622 -0.571749\n",
            "E -1.015089  0.362656  0.129915  0.656068  0.254654\n"
          ]
        }
      ]
    },
    {
      "cell_type": "code",
      "metadata": {
        "colab": {
          "base_uri": "https://localhost:8080/"
        },
        "id": "GDLQzxtGaydD",
        "outputId": "8faaa896-ba34-4c0d-e5d2-f7d4f2d2517b"
      },
      "source": [
        "print(df>0.1)"
      ],
      "execution_count": 27,
      "outputs": [
        {
          "output_type": "stream",
          "name": "stdout",
          "text": [
            "    Col1   Col2   Col3   Col4   Col5\n",
            "A   True  False  False  False   True\n",
            "B   True   True  False   True   True\n",
            "C   True  False  False  False   True\n",
            "D  False  False   True  False  False\n",
            "E  False   True   True   True   True\n"
          ]
        }
      ]
    },
    {
      "cell_type": "code",
      "metadata": {
        "colab": {
          "base_uri": "https://localhost:8080/"
        },
        "id": "UC7mGzNxbEhV",
        "outputId": "d4d8d7a7-b9d7-44cd-a6d5-52909323aea2"
      },
      "source": [
        "df1=df>0.1\n",
        "print(df1)"
      ],
      "execution_count": 29,
      "outputs": [
        {
          "output_type": "stream",
          "name": "stdout",
          "text": [
            "    Col1   Col2   Col3   Col4   Col5\n",
            "A   True  False  False  False   True\n",
            "B   True   True  False   True   True\n",
            "C   True  False  False  False   True\n",
            "D  False  False   True  False  False\n",
            "E  False   True   True   True   True\n"
          ]
        }
      ]
    },
    {
      "cell_type": "code",
      "metadata": {
        "colab": {
          "base_uri": "https://localhost:8080/"
        },
        "id": "ukvds4RTbMeR",
        "outputId": "f79a315e-c2f1-4ad4-89e0-e8cf35313a4c"
      },
      "source": [
        "print(df[df1])"
      ],
      "execution_count": 30,
      "outputs": [
        {
          "output_type": "stream",
          "name": "stdout",
          "text": [
            "       Col1      Col2      Col3      Col4      Col5\n",
            "A  1.151531       NaN       NaN       NaN  0.290062\n",
            "B  0.784309  0.475396       NaN  0.164150  1.323543\n",
            "C  2.444142       NaN       NaN       NaN  0.408580\n",
            "D       NaN       NaN  0.619353       NaN       NaN\n",
            "E       NaN  0.362656  0.129915  0.656068  0.254654\n"
          ]
        }
      ]
    },
    {
      "cell_type": "code",
      "metadata": {
        "colab": {
          "base_uri": "https://localhost:8080/"
        },
        "id": "-mLWXPNIcFCr",
        "outputId": "45044fc3-b351-4012-c941-81afa1aee1ca"
      },
      "source": [
        "print(df[df>0.1])"
      ],
      "execution_count": 35,
      "outputs": [
        {
          "output_type": "stream",
          "name": "stdout",
          "text": [
            "       Col1      Col2      Col3      Col4      Col5\n",
            "A  1.151531       NaN       NaN       NaN  0.290062\n",
            "B  0.784309  0.475396       NaN  0.164150  1.323543\n",
            "C  2.444142       NaN       NaN       NaN  0.408580\n",
            "D       NaN       NaN  0.619353       NaN       NaN\n",
            "E       NaN  0.362656  0.129915  0.656068  0.254654\n"
          ]
        }
      ]
    },
    {
      "cell_type": "code",
      "metadata": {
        "colab": {
          "base_uri": "https://localhost:8080/"
        },
        "id": "H3ozTGLgbcGC",
        "outputId": "49a77148-d8ad-4391-9f7a-86bb752c2ffd"
      },
      "source": [
        "print(df[(df>0.1) & (df<0.5)])"
      ],
      "execution_count": 39,
      "outputs": [
        {
          "output_type": "stream",
          "name": "stdout",
          "text": [
            "   Col1      Col2      Col3     Col4      Col5\n",
            "A   NaN       NaN       NaN      NaN  0.290062\n",
            "B   NaN  0.475396       NaN  0.16415       NaN\n",
            "C   NaN       NaN       NaN      NaN  0.408580\n",
            "D   NaN       NaN       NaN      NaN       NaN\n",
            "E   NaN  0.362656  0.129915      NaN  0.254654\n"
          ]
        }
      ]
    },
    {
      "cell_type": "code",
      "metadata": {
        "colab": {
          "base_uri": "https://localhost:8080/"
        },
        "id": "Zh1BghUaccga",
        "outputId": "d22201b6-00a0-4605-a0d9-c22ebd4ddb44"
      },
      "source": [
        "print(df['Col1']<0)"
      ],
      "execution_count": 36,
      "outputs": [
        {
          "output_type": "stream",
          "name": "stdout",
          "text": [
            "A    False\n",
            "B    False\n",
            "C    False\n",
            "D     True\n",
            "E     True\n",
            "Name: Col1, dtype: bool\n"
          ]
        }
      ]
    },
    {
      "cell_type": "code",
      "metadata": {
        "colab": {
          "base_uri": "https://localhost:8080/"
        },
        "id": "O63GB9U9ckqM",
        "outputId": "3882c3da-4aad-42f0-bd73-ddff9fe47fae"
      },
      "source": [
        "print(df[df['Col1']<0])"
      ],
      "execution_count": 37,
      "outputs": [
        {
          "output_type": "stream",
          "name": "stdout",
          "text": [
            "       Col1      Col2      Col3      Col4      Col5\n",
            "D -0.188216 -1.457549  0.619353 -0.279622 -0.571749\n",
            "E -1.015089  0.362656  0.129915  0.656068  0.254654\n"
          ]
        }
      ]
    },
    {
      "cell_type": "code",
      "metadata": {
        "colab": {
          "base_uri": "https://localhost:8080/"
        },
        "id": "_UNt5evXc91V",
        "outputId": "09a9195a-967b-4e2e-d4d5-3273f60674c4"
      },
      "source": [
        "dizi=np.array([[10,20,np.nan],[3,np.nan,np.nan],[15,np.nan,10]])\n",
        "print(dizi)"
      ],
      "execution_count": 41,
      "outputs": [
        {
          "output_type": "stream",
          "name": "stdout",
          "text": [
            "[[10. 20. nan]\n",
            " [ 3. nan nan]\n",
            " [15. nan 10.]]\n"
          ]
        }
      ]
    },
    {
      "cell_type": "code",
      "metadata": {
        "colab": {
          "base_uri": "https://localhost:8080/"
        },
        "id": "ul52SIbEkY17",
        "outputId": "49e49cf5-2d2b-4f0a-90a6-6580b17872e3"
      },
      "source": [
        "dff=pd.DataFrame(dizi, index=['Index1','Index2','Index3'], columns=['Col1','Col2','Col3'])\n",
        "print(dff)"
      ],
      "execution_count": 42,
      "outputs": [
        {
          "output_type": "stream",
          "name": "stdout",
          "text": [
            "        Col1  Col2  Col3\n",
            "Index1  10.0  20.0   NaN\n",
            "Index2   3.0   NaN   NaN\n",
            "Index3  15.0   NaN  10.0\n"
          ]
        }
      ]
    },
    {
      "cell_type": "code",
      "metadata": {
        "colab": {
          "base_uri": "https://localhost:8080/"
        },
        "id": "IoIhKAlRk2Jn",
        "outputId": "2658693d-2d26-42f2-9d9a-82e222dae9df"
      },
      "source": [
        "print(dff.dropna()) #Satırda eğer NAN var ise satır silinir.."
      ],
      "execution_count": 45,
      "outputs": [
        {
          "output_type": "stream",
          "name": "stdout",
          "text": [
            "Empty DataFrame\n",
            "Columns: [Col1, Col2, Col3]\n",
            "Index: []\n"
          ]
        }
      ]
    },
    {
      "cell_type": "code",
      "metadata": {
        "colab": {
          "base_uri": "https://localhost:8080/"
        },
        "id": "uRjckXCflL_N",
        "outputId": "b88c15e3-2f01-415f-d2c9-90d31f7ba2aa"
      },
      "source": [
        "print(dff)"
      ],
      "execution_count": 46,
      "outputs": [
        {
          "output_type": "stream",
          "name": "stdout",
          "text": [
            "        Col1  Col2  Col3\n",
            "Index1  10.0  20.0   NaN\n",
            "Index2   3.0   NaN   NaN\n",
            "Index3  15.0   NaN  10.0\n"
          ]
        }
      ]
    },
    {
      "cell_type": "code",
      "metadata": {
        "colab": {
          "base_uri": "https://localhost:8080/"
        },
        "id": "TxDLOdqVlWIt",
        "outputId": "eb58ce4e-0eb5-43f6-878f-d64b2bba346a"
      },
      "source": [
        "print(dff.dropna(axis=1)) #Sütunda NAN değeri var ise Sütun silinir..."
      ],
      "execution_count": 47,
      "outputs": [
        {
          "output_type": "stream",
          "name": "stdout",
          "text": [
            "        Col1\n",
            "Index1  10.0\n",
            "Index2   3.0\n",
            "Index3  15.0\n"
          ]
        }
      ]
    },
    {
      "cell_type": "code",
      "metadata": {
        "colab": {
          "base_uri": "https://localhost:8080/"
        },
        "id": "Qbb2O0rWlj77",
        "outputId": "373b54d7-fad3-4ec7-ed85-b0dcf5f3b4fe"
      },
      "source": [
        "print(dff.dropna(thresh=2)) #Eğer satırda 2 adet düzgün veri var ise satır silinmez"
      ],
      "execution_count": 48,
      "outputs": [
        {
          "output_type": "stream",
          "name": "stdout",
          "text": [
            "        Col1  Col2  Col3\n",
            "Index1  10.0  20.0   NaN\n",
            "Index3  15.0   NaN  10.0\n"
          ]
        }
      ]
    },
    {
      "cell_type": "code",
      "metadata": {
        "colab": {
          "base_uri": "https://localhost:8080/"
        },
        "id": "DjZJ_d6Nl4Qn",
        "outputId": "8cb27c7f-2ab1-4c39-f10c-ca03c0dc76e0"
      },
      "source": [
        "print(dff.fillna(value=0)) #Satırdaki NAN değerler 0 ile değiştirilir."
      ],
      "execution_count": 50,
      "outputs": [
        {
          "output_type": "stream",
          "name": "stdout",
          "text": [
            "        Col1  Col2  Col3\n",
            "Index1  10.0  20.0   0.0\n",
            "Index2   3.0   0.0   0.0\n",
            "Index3  15.0   0.0  10.0\n"
          ]
        }
      ]
    },
    {
      "cell_type": "code",
      "metadata": {
        "colab": {
          "base_uri": "https://localhost:8080/"
        },
        "id": "ZWnWUrxYmJ1u",
        "outputId": "3b9c2b8e-b13a-4b2e-904e-8fa0392bc491"
      },
      "source": [
        "print(dff.sum()) #Sütunların toplamı"
      ],
      "execution_count": 52,
      "outputs": [
        {
          "output_type": "stream",
          "name": "stdout",
          "text": [
            "Col1    28.0\n",
            "Col2    20.0\n",
            "Col3    10.0\n",
            "dtype: float64\n"
          ]
        }
      ]
    },
    {
      "cell_type": "code",
      "metadata": {
        "colab": {
          "base_uri": "https://localhost:8080/"
        },
        "id": "1FL47mMnmQxC",
        "outputId": "e2b4054f-7315-4407-a0ff-22cebe5575f7"
      },
      "source": [
        "print(dff.sum().sum())# Bütün sütınların toplamı "
      ],
      "execution_count": 53,
      "outputs": [
        {
          "output_type": "stream",
          "name": "stdout",
          "text": [
            "58.0\n"
          ]
        }
      ]
    },
    {
      "cell_type": "code",
      "metadata": {
        "colab": {
          "base_uri": "https://localhost:8080/"
        },
        "id": "9koX_sOEmWN5",
        "outputId": "7a4010b6-dde7-45ed-ee1c-557ff4fdf12a"
      },
      "source": [
        "print(dff.fillna(value=(dff.sum().sum())/5)) #NAN değerler yerine sayıların ortalaması atanıyor.."
      ],
      "execution_count": 54,
      "outputs": [
        {
          "output_type": "stream",
          "name": "stdout",
          "text": [
            "        Col1  Col2  Col3\n",
            "Index1  10.0  20.0  11.6\n",
            "Index2   3.0  11.6  11.6\n",
            "Index3  15.0  11.6  10.0\n"
          ]
        }
      ]
    },
    {
      "cell_type": "code",
      "metadata": {
        "colab": {
          "base_uri": "https://localhost:8080/"
        },
        "id": "zREDSuxfmmRU",
        "outputId": "c8b42763-5c83-432b-b78d-5f9eafa9b3cd"
      },
      "source": [
        "print(dff.size)"
      ],
      "execution_count": 55,
      "outputs": [
        {
          "output_type": "stream",
          "name": "stdout",
          "text": [
            "9\n"
          ]
        }
      ]
    },
    {
      "cell_type": "code",
      "metadata": {
        "colab": {
          "base_uri": "https://localhost:8080/"
        },
        "id": "KClPjA6YmrwU",
        "outputId": "4f8b8f44-0dab-4d4a-ee49-bfd7a4561bf6"
      },
      "source": [
        "print(dff.isnull()) # Nan olanların listelenmesi"
      ],
      "execution_count": 56,
      "outputs": [
        {
          "output_type": "stream",
          "name": "stdout",
          "text": [
            "         Col1   Col2   Col3\n",
            "Index1  False  False   True\n",
            "Index2  False   True   True\n",
            "Index3  False   True  False\n"
          ]
        }
      ]
    },
    {
      "cell_type": "code",
      "metadata": {
        "colab": {
          "base_uri": "https://localhost:8080/"
        },
        "id": "Od9FyBsym2Pc",
        "outputId": "ba177e2d-01d1-4ff7-d7c6-61375062d045"
      },
      "source": [
        "print(dff.isnull().sum())"
      ],
      "execution_count": 58,
      "outputs": [
        {
          "output_type": "stream",
          "name": "stdout",
          "text": [
            "Col1    0\n",
            "Col2    2\n",
            "Col3    2\n",
            "dtype: int64\n"
          ]
        }
      ]
    },
    {
      "cell_type": "code",
      "metadata": {
        "colab": {
          "base_uri": "https://localhost:8080/"
        },
        "id": "FiSHltmom-dy",
        "outputId": "d706630e-e2eb-45c7-cbeb-af7670846c19"
      },
      "source": [
        "print(dff.isnull().sum().sum())"
      ],
      "execution_count": 59,
      "outputs": [
        {
          "output_type": "stream",
          "name": "stdout",
          "text": [
            "4\n"
          ]
        }
      ]
    },
    {
      "cell_type": "code",
      "metadata": {
        "colab": {
          "base_uri": "https://localhost:8080/"
        },
        "id": "a5iEF-CTnEjO",
        "outputId": "b004866d-d798-4cef-8e96-11e531805669"
      },
      "source": [
        "print(dff.size-dff.isnull().sum())"
      ],
      "execution_count": 61,
      "outputs": [
        {
          "output_type": "stream",
          "name": "stdout",
          "text": [
            "Col1    9\n",
            "Col2    7\n",
            "Col3    7\n",
            "dtype: int64\n"
          ]
        }
      ]
    },
    {
      "cell_type": "code",
      "metadata": {
        "colab": {
          "base_uri": "https://localhost:8080/"
        },
        "id": "9L_sPVOVpapC",
        "outputId": "f93881c0-7c6b-46ac-b3b4-d3b579c1c63e"
      },
      "source": [
        "data={'Meslek':['Veri Madenciliği','CEO','Hukukçu','Veri Madenciliği','CEO'],\n",
        "      'Çalışanlar':['X','Y','Z','A','B'],\n",
        "      'Maaş':[4500,30000,6000,5000,25000]}\n",
        "print(data)"
      ],
      "execution_count": 63,
      "outputs": [
        {
          "output_type": "stream",
          "name": "stdout",
          "text": [
            "{'Meslek': ['Veri Madenciliği', 'CEO', 'Hukukçu', 'Veri Madenciliği', 'CEO'], 'Çalışanlar': ['X', 'Y', 'Z', 'A', 'B'], 'Maaş': [4500, 30000, 6000, 5000, 25000]}\n"
          ]
        }
      ]
    },
    {
      "cell_type": "code",
      "metadata": {
        "colab": {
          "base_uri": "https://localhost:8080/"
        },
        "id": "CbGqf-TCqHcW",
        "outputId": "77591876-6251-406f-9150-877fd8564d61"
      },
      "source": [
        "dataDf=pd.DataFrame(data)\n",
        "print(dataDf)"
      ],
      "execution_count": 64,
      "outputs": [
        {
          "output_type": "stream",
          "name": "stdout",
          "text": [
            "             Meslek Çalışanlar   Maaş\n",
            "0  Veri Madenciliği          X   4500\n",
            "1               CEO          Y  30000\n",
            "2           Hukukçu          Z   6000\n",
            "3  Veri Madenciliği          A   5000\n",
            "4               CEO          B  25000\n"
          ]
        }
      ]
    },
    {
      "cell_type": "code",
      "metadata": {
        "colab": {
          "base_uri": "https://localhost:8080/"
        },
        "id": "dlcy0VIgqW5Y",
        "outputId": "91c65192-d7ed-4ef5-fc37-850f9c6a9469"
      },
      "source": [
        "MaasGrup=dataDf.groupby('Maaş')\n",
        "print(MaasGrup.sum())"
      ],
      "execution_count": 66,
      "outputs": [
        {
          "output_type": "stream",
          "name": "stdout",
          "text": [
            "                 Meslek Çalışanlar\n",
            "Maaş                              \n",
            "4500   Veri Madenciliği          X\n",
            "5000   Veri Madenciliği          A\n",
            "6000            Hukukçu          Z\n",
            "25000               CEO          B\n",
            "30000               CEO          Y\n"
          ]
        }
      ]
    },
    {
      "cell_type": "code",
      "metadata": {
        "colab": {
          "base_uri": "https://localhost:8080/"
        },
        "id": "LqjfoedmqvRI",
        "outputId": "962b28f5-6a52-4c99-9af2-e66125588010"
      },
      "source": [
        "print(dataDf.groupby('Meslek').sum().loc['CEO'])"
      ],
      "execution_count": 67,
      "outputs": [
        {
          "output_type": "stream",
          "name": "stdout",
          "text": [
            "Maaş    55000\n",
            "Name: CEO, dtype: int64\n"
          ]
        }
      ]
    },
    {
      "cell_type": "code",
      "metadata": {
        "colab": {
          "base_uri": "https://localhost:8080/"
        },
        "id": "zYznA3Zqq_Bi",
        "outputId": "33f079e4-5a10-4173-c4e2-6521a3842da9"
      },
      "source": [
        "print(dataDf.groupby('Meslek').count())"
      ],
      "execution_count": 68,
      "outputs": [
        {
          "output_type": "stream",
          "name": "stdout",
          "text": [
            "                  Çalışanlar  Maaş\n",
            "Meslek                            \n",
            "CEO                        2     2\n",
            "Hukukçu                    1     1\n",
            "Veri Madenciliği           2     2\n"
          ]
        }
      ]
    },
    {
      "cell_type": "code",
      "metadata": {
        "colab": {
          "base_uri": "https://localhost:8080/"
        },
        "id": "OEC7zFgFrL1N",
        "outputId": "d34832c9-d683-425e-88e9-46d5b407cb97"
      },
      "source": [
        "print(dataDf.groupby('Meslek').min())"
      ],
      "execution_count": 69,
      "outputs": [
        {
          "output_type": "stream",
          "name": "stdout",
          "text": [
            "                 Çalışanlar   Maaş\n",
            "Meslek                            \n",
            "CEO                       B  25000\n",
            "Hukukçu                   Z   6000\n",
            "Veri Madenciliği          A   4500\n"
          ]
        }
      ]
    },
    {
      "cell_type": "code",
      "metadata": {
        "colab": {
          "base_uri": "https://localhost:8080/"
        },
        "id": "1exIysNArSdD",
        "outputId": "13d2d315-9e64-4986-890b-2fda17ddfe93"
      },
      "source": [
        "print(dataDf.groupby('Meslek').min()['Maaş'])"
      ],
      "execution_count": 70,
      "outputs": [
        {
          "output_type": "stream",
          "name": "stdout",
          "text": [
            "Meslek\n",
            "CEO                 25000\n",
            "Hukukçu              6000\n",
            "Veri Madenciliği     4500\n",
            "Name: Maaş, dtype: int64\n"
          ]
        }
      ]
    },
    {
      "cell_type": "code",
      "metadata": {
        "colab": {
          "base_uri": "https://localhost:8080/"
        },
        "id": "VdX2r3PnrcTt",
        "outputId": "d4f367dc-2da5-4490-e8df-b52755772585"
      },
      "source": [
        "print(dataDf.groupby('Meslek').mean()['Maaş']['CEO'])"
      ],
      "execution_count": 72,
      "outputs": [
        {
          "output_type": "stream",
          "name": "stdout",
          "text": [
            "27500\n"
          ]
        }
      ]
    },
    {
      "cell_type": "code",
      "metadata": {
        "colab": {
          "base_uri": "https://localhost:8080/"
        },
        "id": "tnPJgtkYr-C_",
        "outputId": "ef718e89-a645-4fcf-d18f-53293341b8bb"
      },
      "source": [
        "df1=pd.DataFrame(data=randn(5,5), index=['A','B','C','D','E'], columns=['Col1','Col2','Col3','Col4','Col5'])\n",
        "print(df1)"
      ],
      "execution_count": 75,
      "outputs": [
        {
          "output_type": "stream",
          "name": "stdout",
          "text": [
            "       Col1      Col2      Col3      Col4      Col5\n",
            "A  1.532653  0.059956 -3.019190  1.460584  1.254205\n",
            "B  1.853018  1.782557  0.744393  0.261433 -0.553088\n",
            "C -1.338199  2.230960 -0.997353 -1.267284 -0.066605\n",
            "D  0.353569  0.222238  0.235762 -0.582838 -1.527458\n",
            "E -0.695535 -0.154485  0.814190 -0.480020 -0.601094\n"
          ]
        }
      ]
    },
    {
      "cell_type": "code",
      "metadata": {
        "colab": {
          "base_uri": "https://localhost:8080/"
        },
        "id": "DUdl1EMXsAld",
        "outputId": "e83addaf-df61-4b83-f855-2ca72e0c1c02"
      },
      "source": [
        "df2=pd.DataFrame(data=randn(5,5), index=['A','B','C','D','E'], columns=['Col1','Col2','Col3','Col4','Col5'])\n",
        "print(df2)"
      ],
      "execution_count": 76,
      "outputs": [
        {
          "output_type": "stream",
          "name": "stdout",
          "text": [
            "       Col1      Col2      Col3      Col4      Col5\n",
            "A  1.617631 -0.879573  0.384645  0.753615 -0.389128\n",
            "B  1.638968 -0.676129  1.003976  0.706286 -0.401979\n",
            "C -1.028090  1.590526 -2.768366  0.426159 -1.273822\n",
            "D  3.046585  0.586534  0.210631 -0.738119 -0.548901\n",
            "E -0.732541 -0.022062 -2.005139 -0.483781  1.181915\n"
          ]
        }
      ]
    },
    {
      "cell_type": "code",
      "metadata": {
        "colab": {
          "base_uri": "https://localhost:8080/"
        },
        "id": "9Uy4BMfVsLr5",
        "outputId": "9f9df95c-d149-4d92-bb75-f54a844b47e9"
      },
      "source": [
        "frames=[df1, df2]\n",
        "sonuc=pd.concat(frames)\n",
        "print(sonuc)"
      ],
      "execution_count": 78,
      "outputs": [
        {
          "output_type": "stream",
          "name": "stdout",
          "text": [
            "       Col1      Col2      Col3      Col4      Col5\n",
            "A  1.532653  0.059956 -3.019190  1.460584  1.254205\n",
            "B  1.853018  1.782557  0.744393  0.261433 -0.553088\n",
            "C -1.338199  2.230960 -0.997353 -1.267284 -0.066605\n",
            "D  0.353569  0.222238  0.235762 -0.582838 -1.527458\n",
            "E -0.695535 -0.154485  0.814190 -0.480020 -0.601094\n",
            "A  1.617631 -0.879573  0.384645  0.753615 -0.389128\n",
            "B  1.638968 -0.676129  1.003976  0.706286 -0.401979\n",
            "C -1.028090  1.590526 -2.768366  0.426159 -1.273822\n",
            "D  3.046585  0.586534  0.210631 -0.738119 -0.548901\n",
            "E -0.732541 -0.022062 -2.005139 -0.483781  1.181915\n"
          ]
        }
      ]
    },
    {
      "cell_type": "markdown",
      "metadata": {
        "id": "Fk0P-V02s79Q"
      },
      "source": [
        "KAYNAKÇA\n",
        "\n",
        "https://medium.com/deep-learning-turkiye/adan-z-ye-pandas-tutoriali-ba%C5%9Flang%C4%B1%C3%A7-ve-orta-seviye-4edf0094e0d5\n",
        "\n",
        "http://www.veridefteri.com/2018/03/01/pandasa-giris-seriler/\n",
        "\n",
        "https://www.btogrenme.com/python-pandas-kutuphanesi/"
      ]
    }
  ]
}