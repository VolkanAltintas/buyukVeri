{
  "nbformat": 4,
  "nbformat_minor": 0,
  "metadata": {
    "colab": {
      "name": "buyuk_veri1.ipynb",
      "provenance": [],
      "authorship_tag": "ABX9TyNGcqKBtmmXlb+K57reGbLj"
    },
    "kernelspec": {
      "name": "python3",
      "display_name": "Python 3"
    },
    "language_info": {
      "name": "python"
    }
  },
  "cells": [
    {
      "cell_type": "code",
      "metadata": {
        "colab": {
          "base_uri": "https://localhost:8080/"
        },
        "id": "EPH2tl1HHY0e",
        "outputId": "18753fee-e864-4865-c56c-d62b7f39d59d"
      },
      "source": [
        "x=2\n",
        "y=5\n",
        "txt='Hello World'\n",
        "\n",
        "print(x+y)\n",
        "print(x+3)\n",
        "print(txt)"
      ],
      "execution_count": 145,
      "outputs": [
        {
          "output_type": "stream",
          "name": "stdout",
          "text": [
            "7\n",
            "5\n",
            "Hello World\n"
          ]
        }
      ]
    },
    {
      "cell_type": "code",
      "metadata": {
        "colab": {
          "base_uri": "https://localhost:8080/"
        },
        "id": "IKbqBqJ9J6fA",
        "outputId": "4c4f3b09-17b6-4b68-cc92-b439fdceccfc"
      },
      "source": [
        "x=y=1\n",
        "print(x,y)"
      ],
      "execution_count": 146,
      "outputs": [
        {
          "output_type": "stream",
          "name": "stdout",
          "text": [
            "1 1\n"
          ]
        }
      ]
    },
    {
      "cell_type": "code",
      "metadata": {
        "colab": {
          "base_uri": "https://localhost:8080/"
        },
        "id": "Jw8enu6NKCIA",
        "outputId": "c9d88be2-54ec-40da-dd4e-00632ac281b3"
      },
      "source": [
        "2+3"
      ],
      "execution_count": 147,
      "outputs": [
        {
          "output_type": "execute_result",
          "data": {
            "text/plain": [
              "5"
            ]
          },
          "metadata": {},
          "execution_count": 147
        }
      ]
    },
    {
      "cell_type": "code",
      "metadata": {
        "colab": {
          "base_uri": "https://localhost:8080/"
        },
        "id": "lD8xar36KHXw",
        "outputId": "c3dfbb56-7acc-4aba-8374-eb03867a2c2d"
      },
      "source": [
        "5-1"
      ],
      "execution_count": 148,
      "outputs": [
        {
          "output_type": "execute_result",
          "data": {
            "text/plain": [
              "4"
            ]
          },
          "metadata": {},
          "execution_count": 148
        }
      ]
    },
    {
      "cell_type": "code",
      "metadata": {
        "colab": {
          "base_uri": "https://localhost:8080/"
        },
        "id": "v10iaCGiKKk4",
        "outputId": "132077af-76ea-4b8f-ccb2-cc032baf25ae"
      },
      "source": [
        "2**2"
      ],
      "execution_count": 149,
      "outputs": [
        {
          "output_type": "execute_result",
          "data": {
            "text/plain": [
              "4"
            ]
          },
          "metadata": {},
          "execution_count": 149
        }
      ]
    },
    {
      "cell_type": "code",
      "metadata": {
        "colab": {
          "base_uri": "https://localhost:8080/"
        },
        "id": "6bSp6Xi6KM-c",
        "outputId": "8f45eccd-a3b8-4be7-ad69-32b0e8177a8f"
      },
      "source": [
        "21%5 #mod alma işlemi"
      ],
      "execution_count": 150,
      "outputs": [
        {
          "output_type": "execute_result",
          "data": {
            "text/plain": [
              "1"
            ]
          },
          "metadata": {},
          "execution_count": 150
        }
      ]
    },
    {
      "cell_type": "code",
      "metadata": {
        "id": "Hm3MqaurKadT"
      },
      "source": [
        "sayi=1"
      ],
      "execution_count": 151,
      "outputs": []
    },
    {
      "cell_type": "code",
      "metadata": {
        "colab": {
          "base_uri": "https://localhost:8080/"
        },
        "id": "KirI_iEVKfJn",
        "outputId": "8da45836-54fc-42b6-dfb5-0c9ca9a7b453"
      },
      "source": [
        "sayi==1"
      ],
      "execution_count": 152,
      "outputs": [
        {
          "output_type": "execute_result",
          "data": {
            "text/plain": [
              "True"
            ]
          },
          "metadata": {},
          "execution_count": 152
        }
      ]
    },
    {
      "cell_type": "code",
      "metadata": {
        "colab": {
          "base_uri": "https://localhost:8080/"
        },
        "id": "BZQqemdHKhx_",
        "outputId": "ed73ee5c-a29f-47f7-e895-e329e4402659"
      },
      "source": [
        "sayi>1"
      ],
      "execution_count": 153,
      "outputs": [
        {
          "output_type": "execute_result",
          "data": {
            "text/plain": [
              "False"
            ]
          },
          "metadata": {},
          "execution_count": 153
        }
      ]
    },
    {
      "cell_type": "code",
      "metadata": {
        "colab": {
          "base_uri": "https://localhost:8080/"
        },
        "id": "ZCwYirzPKofC",
        "outputId": "cdbc76c2-9389-49aa-e1f6-7338414126b6"
      },
      "source": [
        "(sayi>1) and (sayi<5)"
      ],
      "execution_count": 154,
      "outputs": [
        {
          "output_type": "execute_result",
          "data": {
            "text/plain": [
              "False"
            ]
          },
          "metadata": {},
          "execution_count": 154
        }
      ]
    },
    {
      "cell_type": "code",
      "metadata": {
        "colab": {
          "base_uri": "https://localhost:8080/"
        },
        "id": "WtiIvCV8KyYN",
        "outputId": "599e620b-e6d7-4355-ffca-84b91f237d22"
      },
      "source": [
        "False ^ False"
      ],
      "execution_count": 155,
      "outputs": [
        {
          "output_type": "execute_result",
          "data": {
            "text/plain": [
              "False"
            ]
          },
          "metadata": {},
          "execution_count": 155
        }
      ]
    },
    {
      "cell_type": "code",
      "metadata": {
        "colab": {
          "base_uri": "https://localhost:8080/"
        },
        "id": "fUTPiImELYig",
        "outputId": "a18a9d44-d561-45f8-ca51-88c54450134c"
      },
      "source": [
        "print(round(4.548787))\n",
        "print(round(4.54879, 2))"
      ],
      "execution_count": 156,
      "outputs": [
        {
          "output_type": "stream",
          "name": "stdout",
          "text": [
            "5\n",
            "4.55\n"
          ]
        }
      ]
    },
    {
      "cell_type": "code",
      "metadata": {
        "colab": {
          "base_uri": "https://localhost:8080/"
        },
        "id": "staH3m6uLpGm",
        "outputId": "32efd6c0-7c68-4293-ee5d-069993259f34"
      },
      "source": [
        "abs(-5) #mutlak değer alma.."
      ],
      "execution_count": 157,
      "outputs": [
        {
          "output_type": "execute_result",
          "data": {
            "text/plain": [
              "5"
            ]
          },
          "metadata": {},
          "execution_count": 157
        }
      ]
    },
    {
      "cell_type": "code",
      "metadata": {
        "colab": {
          "base_uri": "https://localhost:8080/"
        },
        "id": "6j80ghFHLtfY",
        "outputId": "990b5673-ac0c-493f-ed4f-2117b068a429"
      },
      "source": [
        "divmod(14,3) #bölüm ve kalanı gösterme.."
      ],
      "execution_count": 158,
      "outputs": [
        {
          "output_type": "execute_result",
          "data": {
            "text/plain": [
              "(4, 2)"
            ]
          },
          "metadata": {},
          "execution_count": 158
        }
      ]
    },
    {
      "cell_type": "code",
      "metadata": {
        "colab": {
          "base_uri": "https://localhost:8080/"
        },
        "id": "Fbfs4VY9L7Mi",
        "outputId": "6f7b721d-95d2-4b5c-f335-69c09acd20a8"
      },
      "source": [
        "print(isinstance(1, int))\n",
        "print(isinstance(1.0, int))\n",
        "print(isinstance(1.0,(int,float)))"
      ],
      "execution_count": 159,
      "outputs": [
        {
          "output_type": "stream",
          "name": "stdout",
          "text": [
            "True\n",
            "False\n",
            "True\n"
          ]
        }
      ]
    },
    {
      "cell_type": "code",
      "metadata": {
        "colab": {
          "base_uri": "https://localhost:8080/"
        },
        "id": "Pm2jQr4nMRZW",
        "outputId": "88a31061-30e5-4c4e-bab9-247063a6345a"
      },
      "source": [
        "def cmp(x, y):\n",
        "   return (x > y) - (x < y)\n",
        "\n",
        "\n",
        "print(cmp(1,2))"
      ],
      "execution_count": 160,
      "outputs": [
        {
          "output_type": "stream",
          "name": "stdout",
          "text": [
            "-1\n"
          ]
        }
      ]
    },
    {
      "cell_type": "code",
      "metadata": {
        "colab": {
          "base_uri": "https://localhost:8080/"
        },
        "id": "G-Tj3z-OMuFe",
        "outputId": "69dd0a7b-3149-4892-f1d8-39dfbbd530b0"
      },
      "source": [
        "bilgi=input(\"Bilgi Girişi yapınız...\") #kullanıcı veri girişi işlemi"
      ],
      "execution_count": 161,
      "outputs": [
        {
          "name": "stdout",
          "output_type": "stream",
          "text": [
            "Bilgi Girişi yapınız...552\n"
          ]
        }
      ]
    },
    {
      "cell_type": "code",
      "metadata": {
        "colab": {
          "base_uri": "https://localhost:8080/"
        },
        "id": "4R8H36nPNEh3",
        "outputId": "8cf14958-6ade-4877-e79d-5d03a956955e"
      },
      "source": [
        "type(bilgi) # değişkeninin türüne erişim.."
      ],
      "execution_count": 162,
      "outputs": [
        {
          "output_type": "execute_result",
          "data": {
            "text/plain": [
              "str"
            ]
          },
          "metadata": {},
          "execution_count": 162
        }
      ]
    },
    {
      "cell_type": "code",
      "metadata": {
        "colab": {
          "base_uri": "https://localhost:8080/"
        },
        "id": "UUkWJxV-NgGo",
        "outputId": "0170dc5f-064a-4861-b449-44c4cf706c7d"
      },
      "source": [
        "bilgi2=int(bilgi)\n",
        "type(bilgi2)"
      ],
      "execution_count": 163,
      "outputs": [
        {
          "output_type": "execute_result",
          "data": {
            "text/plain": [
              "int"
            ]
          },
          "metadata": {},
          "execution_count": 163
        }
      ]
    },
    {
      "cell_type": "code",
      "metadata": {
        "colab": {
          "base_uri": "https://localhost:8080/"
        },
        "id": "J1DhjrkqNzgC",
        "outputId": "46622a70-76e0-46c3-a5fb-cfc2861eadea"
      },
      "source": [
        "print ('''Manisa Celal Bayar Üniversitesi\n",
        "Akhisar Meslek Yüksekokulu\n",
        "Bilgisayar Programcılığı''')"
      ],
      "execution_count": 164,
      "outputs": [
        {
          "output_type": "stream",
          "name": "stdout",
          "text": [
            "Manisa Celal Bayar Üniversitesi\n",
            "Akhisar Meslek Yüksekokulu\n",
            "Bilgisayar Programcılığı\n"
          ]
        }
      ]
    },
    {
      "cell_type": "code",
      "metadata": {
        "colab": {
          "base_uri": "https://localhost:8080/"
        },
        "id": "R7H93O2nN8XR",
        "outputId": "467a2245-5c91-4059-d1a0-e0686deb21f0"
      },
      "source": [
        "print(\"Manisa Celal Bayar Üniversitesi Akhisar Meslek Yüksekokulu Bilgisayar Programcılığı\")"
      ],
      "execution_count": 165,
      "outputs": [
        {
          "output_type": "stream",
          "name": "stdout",
          "text": [
            "Manisa Celal Bayar Üniversitesi Akhisar Meslek Yüksekokulu Bilgisayar Programcılığı\n"
          ]
        }
      ]
    },
    {
      "cell_type": "code",
      "metadata": {
        "colab": {
          "base_uri": "https://localhost:8080/"
        },
        "id": "znQBMQlTOUdQ",
        "outputId": "e00fabda-3c9d-4f2c-b5a6-bff03ad95508"
      },
      "source": [
        "text='Bilgisayar Programcılığı'\n",
        "print(\"Bölümü : \", text)\n",
        "print(text[3]) #B=0, i=1, l=2, g=3 indisler 0'dan başlar..."
      ],
      "execution_count": 166,
      "outputs": [
        {
          "output_type": "stream",
          "name": "stdout",
          "text": [
            "Bölümü :  Bilgisayar Programcılığı\n",
            "g\n"
          ]
        }
      ]
    },
    {
      "cell_type": "code",
      "metadata": {
        "colab": {
          "base_uri": "https://localhost:8080/"
        },
        "id": "YqiucfNxQKH7",
        "outputId": "24d97c74-4776-4659-9cac-79812b128864"
      },
      "source": [
        "aList=[]\n",
        "print(type(aList))"
      ],
      "execution_count": 167,
      "outputs": [
        {
          "output_type": "stream",
          "name": "stdout",
          "text": [
            "<class 'list'>\n"
          ]
        }
      ]
    },
    {
      "cell_type": "code",
      "metadata": {
        "colab": {
          "base_uri": "https://localhost:8080/"
        },
        "id": "xAjfQ1ogQWk9",
        "outputId": "0f49e333-b5e6-4143-ae64-7c4300e14a65"
      },
      "source": [
        "bList=['Bilgisayar','Telefon','Televizyon']\n",
        "print(bList)"
      ],
      "execution_count": 168,
      "outputs": [
        {
          "output_type": "stream",
          "name": "stdout",
          "text": [
            "['Bilgisayar', 'Telefon', 'Televizyon']\n"
          ]
        }
      ]
    },
    {
      "cell_type": "code",
      "metadata": {
        "colab": {
          "base_uri": "https://localhost:8080/"
        },
        "id": "AcRpFdxsQnxe",
        "outputId": "06bd0554-2a3a-42f3-f1d2-22033cd31087"
      },
      "source": [
        "print(bList[0])\n",
        "print(bList[2])\n",
        "print(bList[-1])"
      ],
      "execution_count": 169,
      "outputs": [
        {
          "output_type": "stream",
          "name": "stdout",
          "text": [
            "Bilgisayar\n",
            "Televizyon\n",
            "Televizyon\n"
          ]
        }
      ]
    },
    {
      "cell_type": "code",
      "metadata": {
        "id": "JYwHe14EQ7ql"
      },
      "source": [
        "cList=['Klavye','Wifi','Kumanda']"
      ],
      "execution_count": 170,
      "outputs": []
    },
    {
      "cell_type": "code",
      "metadata": {
        "colab": {
          "base_uri": "https://localhost:8080/"
        },
        "id": "OP-Ow6gaRFjP",
        "outputId": "6ada9a52-d5db-42d1-ebc2-01b9fd0d35f6"
      },
      "source": [
        "dList=[bList,cList]\n",
        "print(dList)"
      ],
      "execution_count": 171,
      "outputs": [
        {
          "output_type": "stream",
          "name": "stdout",
          "text": [
            "[['Bilgisayar', 'Telefon', 'Televizyon'], ['Klavye', 'Wifi', 'Kumanda']]\n"
          ]
        }
      ]
    },
    {
      "cell_type": "code",
      "metadata": {
        "colab": {
          "base_uri": "https://localhost:8080/"
        },
        "id": "JwI69GgFRUzb",
        "outputId": "626a5e8f-7446-4057-91f2-f082c62e9fbe"
      },
      "source": [
        "print(dList[0][1])\n",
        "print(dList[1][1])"
      ],
      "execution_count": 172,
      "outputs": [
        {
          "output_type": "stream",
          "name": "stdout",
          "text": [
            "Telefon\n",
            "Wifi\n"
          ]
        }
      ]
    },
    {
      "cell_type": "code",
      "metadata": {
        "id": "wdWwX2xGR9Y3"
      },
      "source": [
        "sayi=[1,2,3,4,5,6,7,8,9]"
      ],
      "execution_count": 173,
      "outputs": []
    },
    {
      "cell_type": "code",
      "metadata": {
        "colab": {
          "base_uri": "https://localhost:8080/"
        },
        "id": "osdO7fFKSC9V",
        "outputId": "46a19c96-7a66-4220-944e-8c1d3fe9b94b"
      },
      "source": [
        "print(sayi[:])\n",
        "print(sayi[2:]) #2.indisten itibaren sonuna kadar\n",
        "print(sayi[:4]) #baştan itibaren 4.indise kadar\n",
        "print(sayi[1:4]) #1.indisten itibaren 4.indise kadar (4.indis dahil değil)\n",
        "print(sayi[::3])"
      ],
      "execution_count": 174,
      "outputs": [
        {
          "output_type": "stream",
          "name": "stdout",
          "text": [
            "[1, 2, 3, 4, 5, 6, 7, 8, 9]\n",
            "[3, 4, 5, 6, 7, 8, 9]\n",
            "[1, 2, 3, 4]\n",
            "[2, 3, 4]\n",
            "[1, 4, 7]\n"
          ]
        }
      ]
    },
    {
      "cell_type": "code",
      "metadata": {
        "colab": {
          "base_uri": "https://localhost:8080/"
        },
        "id": "7TEt7Ua-TJro",
        "outputId": "12c4458a-6df8-4181-bf52-3bb0ecd8d37f"
      },
      "source": [
        "len(sayi)"
      ],
      "execution_count": 175,
      "outputs": [
        {
          "output_type": "execute_result",
          "data": {
            "text/plain": [
              "9"
            ]
          },
          "metadata": {},
          "execution_count": 175
        }
      ]
    },
    {
      "cell_type": "code",
      "metadata": {
        "colab": {
          "base_uri": "https://localhost:8080/"
        },
        "id": "uxzo99IjTPDs",
        "outputId": "9b2f1d1a-8218-4db7-a536-b0ad421e334e"
      },
      "source": [
        "indis=len(sayi)\n",
        "sayi[indis-1]"
      ],
      "execution_count": 176,
      "outputs": [
        {
          "output_type": "execute_result",
          "data": {
            "text/plain": [
              "9"
            ]
          },
          "metadata": {},
          "execution_count": 176
        }
      ]
    },
    {
      "cell_type": "code",
      "metadata": {
        "colab": {
          "base_uri": "https://localhost:8080/"
        },
        "id": "UVd86Z1QTb2e",
        "outputId": "8e4d5a98-ad87-424d-b9f8-f6aa0c1f959a"
      },
      "source": [
        "min(sayi)"
      ],
      "execution_count": 177,
      "outputs": [
        {
          "output_type": "execute_result",
          "data": {
            "text/plain": [
              "1"
            ]
          },
          "metadata": {},
          "execution_count": 177
        }
      ]
    },
    {
      "cell_type": "code",
      "metadata": {
        "colab": {
          "base_uri": "https://localhost:8080/"
        },
        "id": "OJYhPAzyTe7_",
        "outputId": "55300b64-2ed4-42c7-b392-7f35de7cdef1"
      },
      "source": [
        "max(sayi)"
      ],
      "execution_count": 178,
      "outputs": [
        {
          "output_type": "execute_result",
          "data": {
            "text/plain": [
              "9"
            ]
          },
          "metadata": {},
          "execution_count": 178
        }
      ]
    },
    {
      "cell_type": "code",
      "metadata": {
        "colab": {
          "base_uri": "https://localhost:8080/"
        },
        "id": "j_mXUdkmThXH",
        "outputId": "23335e8d-c9b1-4e8d-b7a7-9a60a42f2e88"
      },
      "source": [
        "karisik=[1,5,3,7,6,2]\n",
        "max(karisik)"
      ],
      "execution_count": 179,
      "outputs": [
        {
          "output_type": "execute_result",
          "data": {
            "text/plain": [
              "7"
            ]
          },
          "metadata": {},
          "execution_count": 179
        }
      ]
    },
    {
      "cell_type": "code",
      "metadata": {
        "colab": {
          "base_uri": "https://localhost:8080/"
        },
        "id": "aBVVlyCxTt7Q",
        "outputId": "465bbb9d-e7f8-4fee-b8e6-b6e17b2472fd"
      },
      "source": [
        "min(karisik)"
      ],
      "execution_count": 180,
      "outputs": [
        {
          "output_type": "execute_result",
          "data": {
            "text/plain": [
              "1"
            ]
          },
          "metadata": {},
          "execution_count": 180
        }
      ]
    },
    {
      "cell_type": "code",
      "metadata": {
        "colab": {
          "base_uri": "https://localhost:8080/"
        },
        "id": "cfNbHgR4Tv22",
        "outputId": "8f350507-c0ae-45d7-c1d8-190bdc3a3914"
      },
      "source": [
        "[1,2,3]+[7,8,9]"
      ],
      "execution_count": 181,
      "outputs": [
        {
          "output_type": "execute_result",
          "data": {
            "text/plain": [
              "[1, 2, 3, 7, 8, 9]"
            ]
          },
          "metadata": {},
          "execution_count": 181
        }
      ]
    },
    {
      "cell_type": "code",
      "metadata": {
        "colab": {
          "base_uri": "https://localhost:8080/"
        },
        "id": "Q-Dk1E77T_6B",
        "outputId": "3cf8f869-9e49-4881-ee4c-2b11d5e70bc2"
      },
      "source": [
        "isimler=['Ali','Ayşe','Gökhan','Fatma','Batur','Mehmet','Ayşegül','Abdullah']\n",
        "type(isimler)"
      ],
      "execution_count": 182,
      "outputs": [
        {
          "output_type": "execute_result",
          "data": {
            "text/plain": [
              "list"
            ]
          },
          "metadata": {},
          "execution_count": 182
        }
      ]
    },
    {
      "cell_type": "code",
      "metadata": {
        "colab": {
          "base_uri": "https://localhost:8080/"
        },
        "id": "3g62P_5iURR3",
        "outputId": "34eb6d51-9a59-41c5-9063-3af0f51953c0"
      },
      "source": [
        "'Volkan' in isimler"
      ],
      "execution_count": 183,
      "outputs": [
        {
          "output_type": "execute_result",
          "data": {
            "text/plain": [
              "False"
            ]
          },
          "metadata": {},
          "execution_count": 183
        }
      ]
    },
    {
      "cell_type": "code",
      "metadata": {
        "colab": {
          "base_uri": "https://localhost:8080/"
        },
        "id": "1obVNeFaUVO4",
        "outputId": "e424b479-de7f-43ef-ef65-1f599adbdea6"
      },
      "source": [
        "'Ahmet' in isimler"
      ],
      "execution_count": 184,
      "outputs": [
        {
          "output_type": "execute_result",
          "data": {
            "text/plain": [
              "False"
            ]
          },
          "metadata": {},
          "execution_count": 184
        }
      ]
    },
    {
      "cell_type": "code",
      "metadata": {
        "colab": {
          "base_uri": "https://localhost:8080/"
        },
        "id": "dLvQfZ_bakXZ",
        "outputId": "bc007594-9bc7-46b5-e2ed-385af3226d52"
      },
      "source": [
        "print(max(isimler))"
      ],
      "execution_count": 185,
      "outputs": [
        {
          "output_type": "stream",
          "name": "stdout",
          "text": [
            "Mehmet\n"
          ]
        }
      ]
    },
    {
      "cell_type": "code",
      "metadata": {
        "colab": {
          "base_uri": "https://localhost:8080/"
        },
        "id": "ilzAEb_bao7-",
        "outputId": "7b1e96aa-0dcb-4353-f335-dcaf115a659f"
      },
      "source": [
        "print(min(isimler))"
      ],
      "execution_count": 186,
      "outputs": [
        {
          "output_type": "stream",
          "name": "stdout",
          "text": [
            "Abdullah\n"
          ]
        }
      ]
    },
    {
      "cell_type": "code",
      "metadata": {
        "colab": {
          "base_uri": "https://localhost:8080/"
        },
        "id": "JmRWXaw4awx2",
        "outputId": "7fe532f6-06ae-40dd-859c-6d6feaa00ddb"
      },
      "source": [
        "print(max(isimler, key=len))\n",
        "print(min(isimler, key=len))"
      ],
      "execution_count": 187,
      "outputs": [
        {
          "output_type": "stream",
          "name": "stdout",
          "text": [
            "Abdullah\n",
            "Ali\n"
          ]
        }
      ]
    },
    {
      "cell_type": "code",
      "metadata": {
        "id": "u-tFiFiKbI7S"
      },
      "source": [
        "lst=[3,5,7,9,4]"
      ],
      "execution_count": 188,
      "outputs": []
    },
    {
      "cell_type": "code",
      "metadata": {
        "id": "sOmMHIXSbM-x"
      },
      "source": [
        "lst.append(1) #4 kere çalıştırıldı.."
      ],
      "execution_count": 189,
      "outputs": []
    },
    {
      "cell_type": "code",
      "metadata": {
        "colab": {
          "base_uri": "https://localhost:8080/"
        },
        "id": "Y4H6aX1vbQQr",
        "outputId": "852728be-f09e-4b00-b566-24e12303c4b3"
      },
      "source": [
        "print(lst)"
      ],
      "execution_count": 190,
      "outputs": [
        {
          "output_type": "stream",
          "name": "stdout",
          "text": [
            "[3, 5, 7, 9, 4, 1]\n"
          ]
        }
      ]
    },
    {
      "cell_type": "code",
      "metadata": {
        "colab": {
          "base_uri": "https://localhost:8080/"
        },
        "id": "TGCXmPXvbUBR",
        "outputId": "b324f918-7b2b-4d84-bade-66bf714d4f3f"
      },
      "source": [
        "lst.count(1)"
      ],
      "execution_count": 191,
      "outputs": [
        {
          "output_type": "execute_result",
          "data": {
            "text/plain": [
              "1"
            ]
          },
          "metadata": {},
          "execution_count": 191
        }
      ]
    },
    {
      "cell_type": "code",
      "metadata": {
        "id": "MW5oOnGfbk73"
      },
      "source": [
        "lst1=[1,2,3]"
      ],
      "execution_count": 192,
      "outputs": []
    },
    {
      "cell_type": "code",
      "metadata": {
        "id": "Jzj8YiOHbomn"
      },
      "source": [
        "lst.append(lst1)"
      ],
      "execution_count": 193,
      "outputs": []
    },
    {
      "cell_type": "code",
      "metadata": {
        "colab": {
          "base_uri": "https://localhost:8080/"
        },
        "id": "8SA_bVRpbtiJ",
        "outputId": "8c3a1e70-0d98-46ab-cece-6171cdd7c9c2"
      },
      "source": [
        "print(lst)"
      ],
      "execution_count": 194,
      "outputs": [
        {
          "output_type": "stream",
          "name": "stdout",
          "text": [
            "[3, 5, 7, 9, 4, 1, [1, 2, 3]]\n"
          ]
        }
      ]
    },
    {
      "cell_type": "code",
      "metadata": {
        "id": "qJ0pvc_wbyKr"
      },
      "source": [
        "lst.extend(lst1)"
      ],
      "execution_count": 195,
      "outputs": []
    },
    {
      "cell_type": "code",
      "metadata": {
        "colab": {
          "base_uri": "https://localhost:8080/"
        },
        "id": "4AGJDXInb1o5",
        "outputId": "12d58aff-7380-4297-a7cd-952143cb8dfc"
      },
      "source": [
        "print(lst)"
      ],
      "execution_count": 196,
      "outputs": [
        {
          "output_type": "stream",
          "name": "stdout",
          "text": [
            "[3, 5, 7, 9, 4, 1, [1, 2, 3], 1, 2, 3]\n"
          ]
        }
      ]
    },
    {
      "cell_type": "code",
      "metadata": {
        "colab": {
          "base_uri": "https://localhost:8080/"
        },
        "id": "9WOOwuYvcQvm",
        "outputId": "3dd1e471-c3f6-43e0-87f4-3652a8dd5810"
      },
      "source": [
        "lst.index(5)"
      ],
      "execution_count": 198,
      "outputs": [
        {
          "output_type": "execute_result",
          "data": {
            "text/plain": [
              "1"
            ]
          },
          "metadata": {},
          "execution_count": 198
        }
      ]
    },
    {
      "cell_type": "code",
      "metadata": {
        "id": "3HjDaK9VcaBH"
      },
      "source": [
        "lst.insert(2, 8)"
      ],
      "execution_count": 199,
      "outputs": []
    },
    {
      "cell_type": "code",
      "metadata": {
        "colab": {
          "base_uri": "https://localhost:8080/"
        },
        "id": "MWh_klGOcfm-",
        "outputId": "a38bd1b4-2d3a-4502-c1e4-b2e347ddb1b7"
      },
      "source": [
        "print(lst)"
      ],
      "execution_count": 215,
      "outputs": [
        {
          "output_type": "stream",
          "name": "stdout",
          "text": [
            "[3, 5, 7, 9, 4, 1, [1, 2, 3], 1, 2, 3]\n"
          ]
        }
      ]
    },
    {
      "cell_type": "code",
      "metadata": {
        "colab": {
          "base_uri": "https://localhost:8080/"
        },
        "id": "DmMlBg_xcmE6",
        "outputId": "e400b812-fd74-4d12-cd42-a7b085568f66"
      },
      "source": [
        "lst[2]=15\n",
        "print(lst)"
      ],
      "execution_count": 200,
      "outputs": [
        {
          "output_type": "stream",
          "name": "stdout",
          "text": [
            "[3, 5, 15, 7, 9, 4, 1, [1, 2, 3], 1, 2, 3]\n"
          ]
        }
      ]
    },
    {
      "cell_type": "code",
      "metadata": {
        "id": "E3eUnPzZcwMc"
      },
      "source": [
        "del lst[2]"
      ],
      "execution_count": 201,
      "outputs": []
    },
    {
      "cell_type": "code",
      "metadata": {
        "colab": {
          "base_uri": "https://localhost:8080/"
        },
        "id": "0D4m6KYmc0JC",
        "outputId": "52c9cdcc-6424-436e-808a-edc4937d884b"
      },
      "source": [
        "print(lst)"
      ],
      "execution_count": 202,
      "outputs": [
        {
          "output_type": "stream",
          "name": "stdout",
          "text": [
            "[3, 5, 7, 9, 4, 1, [1, 2, 3], 1, 2, 3]\n"
          ]
        }
      ]
    },
    {
      "cell_type": "code",
      "metadata": {
        "colab": {
          "base_uri": "https://localhost:8080/"
        },
        "id": "ZWIW76Xec47J",
        "outputId": "7aaea5f9-d182-47f4-b167-21870264b394"
      },
      "source": [
        "lst2=[4,8,9,6,7,2,1]\n",
        "lst2.sort()\n",
        "print(lst2)\n",
        "lst2.sort(reverse=True)\n",
        "print(lst2)"
      ],
      "execution_count": 203,
      "outputs": [
        {
          "output_type": "stream",
          "name": "stdout",
          "text": [
            "[1, 2, 4, 6, 7, 8, 9]\n",
            "[9, 8, 7, 6, 4, 2, 1]\n"
          ]
        }
      ]
    },
    {
      "cell_type": "code",
      "metadata": {
        "colab": {
          "base_uri": "https://localhost:8080/"
        },
        "id": "_AT4TTfudPAj",
        "outputId": "6d231f00-ed03-4878-a5bc-dcf38d5b15b2"
      },
      "source": [
        "cumle='Akhisar Meslek Yüksekokulu'\n",
        "print(cumle)\n",
        "print(type(cumle))"
      ],
      "execution_count": 204,
      "outputs": [
        {
          "output_type": "stream",
          "name": "stdout",
          "text": [
            "Akhisar Meslek Yüksekokulu\n",
            "<class 'str'>\n"
          ]
        }
      ]
    },
    {
      "cell_type": "code",
      "metadata": {
        "colab": {
          "base_uri": "https://localhost:8080/"
        },
        "id": "8-48nOjVhuMd",
        "outputId": "34f5bafd-eb26-4ca0-8e42-f8ebeb6f5fba"
      },
      "source": [
        "print(cumle[4])\n",
        "print(cumle[4:])"
      ],
      "execution_count": 205,
      "outputs": [
        {
          "output_type": "stream",
          "name": "stdout",
          "text": [
            "s\n",
            "sar Meslek Yüksekokulu\n"
          ]
        }
      ]
    },
    {
      "cell_type": "code",
      "metadata": {
        "colab": {
          "base_uri": "https://localhost:8080/"
        },
        "id": "jCs3_8ewiEDw",
        "outputId": "dbfca6c3-fae2-48a4-be11-75d709b7be26"
      },
      "source": [
        "print(cumle.find('Mes'))\n",
        "print(cumle.find('abc'))\n",
        "print(cumle.find('a',6,10))"
      ],
      "execution_count": 206,
      "outputs": [
        {
          "output_type": "stream",
          "name": "stdout",
          "text": [
            "8\n",
            "-1\n",
            "-1\n"
          ]
        }
      ]
    },
    {
      "cell_type": "code",
      "metadata": {
        "colab": {
          "base_uri": "https://localhost:8080/"
        },
        "id": "WlaAJm2JipLR",
        "outputId": "c83a2a97-34b7-412d-88b7-eb3af51f4f96"
      },
      "source": [
        "print(cumle.capitalize())"
      ],
      "execution_count": 207,
      "outputs": [
        {
          "output_type": "stream",
          "name": "stdout",
          "text": [
            "Akhisar meslek yüksekokulu\n"
          ]
        }
      ]
    },
    {
      "cell_type": "code",
      "metadata": {
        "colab": {
          "base_uri": "https://localhost:8080/"
        },
        "id": "J3l86wU1ixk0",
        "outputId": "0db2b909-8292-4250-be47-169a8f87e4a1"
      },
      "source": [
        "print(cumle.upper())"
      ],
      "execution_count": 208,
      "outputs": [
        {
          "output_type": "stream",
          "name": "stdout",
          "text": [
            "AKHISAR MESLEK YÜKSEKOKULU\n"
          ]
        }
      ]
    },
    {
      "cell_type": "code",
      "metadata": {
        "colab": {
          "base_uri": "https://localhost:8080/"
        },
        "id": "de3b5dJ6i62S",
        "outputId": "55d27c89-66d0-4ccd-955e-20a89caffae4"
      },
      "source": [
        "print(cumle.count('a')) # orjinal cumle içerisinde arama(büyük küçük ayrımı var.)\n",
        "print(cumle.lower().count('a')) #hepsi küçük harfe dönüştürüldü...\n",
        "print(cumle.lower().count('a',5,15)) # belirli bir aralıkta arama.."
      ],
      "execution_count": 209,
      "outputs": [
        {
          "output_type": "stream",
          "name": "stdout",
          "text": [
            "1\n",
            "2\n",
            "1\n"
          ]
        }
      ]
    },
    {
      "cell_type": "code",
      "metadata": {
        "colab": {
          "base_uri": "https://localhost:8080/"
        },
        "id": "My3dB3ofjwHZ",
        "outputId": "41eab04a-95bf-402c-c15c-9d45c85fcf4f"
      },
      "source": [
        "print(cumle.replace('Akhisar','Soma'))"
      ],
      "execution_count": 210,
      "outputs": [
        {
          "output_type": "stream",
          "name": "stdout",
          "text": [
            "Soma Meslek Yüksekokulu\n"
          ]
        }
      ]
    },
    {
      "cell_type": "code",
      "metadata": {
        "colab": {
          "base_uri": "https://localhost:8080/"
        },
        "id": "Wgd80zk4j_dp",
        "outputId": "f689ab9f-af7d-44a3-a65e-19057d42b5a6"
      },
      "source": [
        "ornek='             Merhaba Dünya     '\n",
        "print(ornek)"
      ],
      "execution_count": 211,
      "outputs": [
        {
          "output_type": "stream",
          "name": "stdout",
          "text": [
            "             Merhaba Dünya     \n"
          ]
        }
      ]
    },
    {
      "cell_type": "code",
      "metadata": {
        "colab": {
          "base_uri": "https://localhost:8080/"
        },
        "id": "tTYNIMNYkHgv",
        "outputId": "d88af120-98f9-4ee0-b29f-c4d6a4468b05"
      },
      "source": [
        "ornek2=ornek.strip()\n",
        "print(ornek2)"
      ],
      "execution_count": 212,
      "outputs": [
        {
          "output_type": "stream",
          "name": "stdout",
          "text": [
            "Merhaba Dünya\n"
          ]
        }
      ]
    },
    {
      "cell_type": "code",
      "metadata": {
        "id": "fi1tsBiPkRn1"
      },
      "source": [
        "ornek3='      ******-------Merhaba Dünya-------**************     '"
      ],
      "execution_count": 213,
      "outputs": []
    },
    {
      "cell_type": "code",
      "metadata": {
        "colab": {
          "base_uri": "https://localhost:8080/"
        },
        "id": "cxomzXDxkYC3",
        "outputId": "b6bd48a5-883f-44bb-843a-3bc9c1d5c0e5"
      },
      "source": [
        "ornek4=ornek3.strip() #Boşluklar temizlendi...\n",
        "ornek4=ornek4.strip('*')# * karakteri temizlendi...\n",
        "print(ornek4)\n",
        "print(ornek4.strip('-')) # - karakteri temizlendi..."
      ],
      "execution_count": 214,
      "outputs": [
        {
          "output_type": "stream",
          "name": "stdout",
          "text": [
            "-------Merhaba Dünya-------\n",
            "Merhaba Dünya\n"
          ]
        }
      ]
    }
  ]
}